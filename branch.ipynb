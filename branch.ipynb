{
 "cells": [
  {
   "cell_type": "code",
   "execution_count": null,
   "id": "24744f54",
   "metadata": {
    "vscode": {
     "languageId": "shellscript"
    }
   },
   "outputs": [],
   "source": [
    "# | echo: false\n",
    "# | output: false\n",
    "export LANG=en_US.UTF-8\n",
    "export HOME=/Users/joelkim/Work/personal/book_git\n",
    "cd $HOME"
   ]
  },
  {
   "cell_type": "markdown",
   "id": "b1e45dbb",
   "metadata": {},
   "source": [
    "# 브랜치"
   ]
  },
  {
   "cell_type": "raw",
   "id": "41aa7f4e",
   "metadata": {
    "vscode": {
     "languageId": "raw"
    }
   },
   "source": [
    "::: {.hidden}\n",
    "\n",
    "## 참고 문헌\n",
    "\n",
    "- Building Git, Ch. 13 Branching Out\n",
    "  - chrome-extension://oemmndcbldboiebfnladdacbdfmadadm/file:///Users/joelkim/Work/study/study_cs/book/DevOps/Coglan/2021%20-%20Coglan%20-%20Buliding%20Git.pdf#%5B%7B%22num%22%3A1460%2C%22gen%22%3A0%7D%2C%7B%22name%22%3A%22XYZ%22%7D%2C72%2C769.889%2Cnull%5D\n",
    "\n",
    ":::"
   ]
  },
  {
   "cell_type": "markdown",
   "id": "9c504654",
   "metadata": {},
   "source": [
    "## 커밋 그래프"
   ]
  },
  {
   "cell_type": "markdown",
   "id": "9e249b4e",
   "metadata": {},
   "source": [
    "- 커밋 객체는 부모 커밋을 가리키므로 커밋을 계속하면 사슬 형태의 커밋 연결관계가 생긴다."
   ]
  },
  {
   "cell_type": "markdown",
   "id": "4a96a158",
   "metadata": {},
   "source": [
    "![그림: 커밋 그래프의 예](figs/fig_graph_01.png){width=\"600px\"}"
   ]
  },
  {
   "cell_type": "markdown",
   "id": "c1b67150",
   "metadata": {},
   "source": [
    "- 브랜치 기능을 사용하면 하나의 부모 커밋이 여러개의 자식 커밋을 가질 수도 있다."
   ]
  },
  {
   "cell_type": "markdown",
   "id": "9024d557",
   "metadata": {},
   "source": [
    "![그림: 브랜치가 있는 커밋 그래프의 예](figs/fig_graph_02.png){width=\"600px\"}"
   ]
  },
  {
   "cell_type": "markdown",
   "id": "a9aabc36",
   "metadata": {},
   "source": [
    "- 머지 기능을 사용하면 하나의 자식 커밋이 2개의 부모 커밋을 가질 수도 있다."
   ]
  },
  {
   "cell_type": "markdown",
   "id": "7ce42089",
   "metadata": {},
   "source": [
    "![그림: 머지가 있는 커밋 그래프의 예](figs/fig_graph_03.png){width=\"600px\"}"
   ]
  },
  {
   "cell_type": "markdown",
   "id": "bcf65a45",
   "metadata": {},
   "source": [
    "- 따라서 일반적인 경우에 커밋 객체들은 컴퓨터 과학에서 말하는 그래프(graph) 구조를 가진다. "
   ]
  },
  {
   "cell_type": "markdown",
   "id": "ef0e6447",
   "metadata": {},
   "source": [
    "## 브랜치"
   ]
  },
  {
   "cell_type": "markdown",
   "id": "29d3c481",
   "metadata": {},
   "source": [
    "- 말단 커밋(leaf commit)\n",
    "  - 자신을 가리키는 자식 커밋이 없는 커밋\n",
    "- 브랜치(branch)\n",
    "  - 말단 커밋에 대한 참조 이름\n",
    "  - 하나의 말단 커밋이 여러개의 브랜치(참조 이름)를 가질 수 있다."
   ]
  },
  {
   "cell_type": "markdown",
   "id": "a8a6fa82",
   "metadata": {},
   "source": [
    "![그림: 하나의 브랜치를 가지는 커밋 그래프](figs/fig_graph_04.png){width=\"600px\"}"
   ]
  },
  {
   "cell_type": "markdown",
   "id": "e9576391",
   "metadata": {},
   "source": [
    "![그림: 하나의 커밋에 두개의 브랜치가 있는 커밋 그래프](figs/fig_graph_05.png){width=\"600px\"}"
   ]
  },
  {
   "cell_type": "markdown",
   "id": "31d20857",
   "metadata": {},
   "source": [
    "![그림: 복수의 브랜치를 가지는 커밋 그래프](figs/fig_graph_06.png){width=\"600px\"}"
   ]
  },
  {
   "cell_type": "markdown",
   "id": "60af9b8e",
   "metadata": {},
   "source": [
    "## 브랜치 정보의 저장"
   ]
  },
  {
   "cell_type": "markdown",
   "id": "03c2d246",
   "metadata": {},
   "source": [
    "- 브랜치를 생성하면 해당 브랜치 정보는 `.git/refs/heads/` 디렉토리 아래에 브랜치 이름과 같은 이름의 텍스트 파일로 저장된다.\n",
    "- 예를 들어 main 브랜치의 정보는 `.git/refs/heads/main` 파일로 저장된다.\n",
    "- 브랜치 정보 파일의 내용은 해당 브랜치의 마지막(최신) 커밋을 가리키는 해시값이다.\n"
   ]
  },
  {
   "cell_type": "markdown",
   "id": "7fdabc69",
   "metadata": {},
   "source": [
    "## 디폴트 브랜치"
   ]
  },
  {
   "cell_type": "markdown",
   "id": "ddeffaac",
   "metadata": {},
   "source": [
    "- 레포지토리 생성 직후에는 브랜치가 존재하지 않는다.\n",
    "- 최초로 하나의 커밋을 만들면 미리 정해진 이름으로 최초 커밋을 가리키는 브랜치가 생성된다. 이를 디폴트 브랜치라고 한다.\n",
    "- git 자체의 디폴트 브랜치 이름은 `master` 이다.\n",
    "- 여기에서는 디폴트 브랜치 이름으로 `main`을 사용한다.\n"
   ]
  },
  {
   "cell_type": "markdown",
   "id": "cb70b26f",
   "metadata": {},
   "source": [
    "### 디폴트 브랜치 이름 변경"
   ]
  },
  {
   "cell_type": "markdown",
   "id": "463bed2e",
   "metadata": {},
   "source": [
    "- 레포지토리 생성전에  `init.defaultBranch` 설정으로 디폴트 브랜치 이름을 미리 변경할 수 있다.\n",
    "\n",
    "   ```bash\n",
    "   git config init.defaultBranch \"<디폴트 브랜치 이름>\"\n",
    "   ```\n"
   ]
  },
  {
   "cell_type": "markdown",
   "id": "1145e63d",
   "metadata": {},
   "source": [
    "- 레포지토리 생성시에 `--initial-branch` 인수로 디폴트 브랜치 이름을 지정 가능 \n",
    "\n",
    "   ```bash\n",
    "   git init --initial-branch=\"<최초 브랜치 이름>\"\n",
    "   ```\n",
    "  - 일단 레포지토리가 생성되면 최초 커밋이 생성될 때 같이 생성되는 최초 브랜치 이름은 변경할 수 없다.\n",
    "  - 일단 브랜치 생성 후에 이름을 바꾸는 것은 가능"
   ]
  },
  {
   "cell_type": "markdown",
   "id": "2f95b9dc",
   "metadata": {},
   "source": [
    "#### 실습"
   ]
  },
  {
   "cell_type": "markdown",
   "id": "1b364406",
   "metadata": {},
   "source": [
    "1. 레포지토리 생성"
   ]
  },
  {
   "cell_type": "code",
   "execution_count": null,
   "id": "cfeacce7",
   "metadata": {
    "vscode": {
     "languageId": "shellscript"
    }
   },
   "outputs": [
    {
     "name": "stdout",
     "output_type": "stream",
     "text": [
      "Initialized empty Git repository in /Users/joelkim/Work/personal/book_git/lab/test_branch_01/.git/\n"
     ]
    }
   ],
   "source": [
    "# | output: false\n",
    "cd $HOME/lab\n",
    "rm -rf test_branch_01\n",
    "git init test_branch_01\n",
    "cd test_branch_01"
   ]
  },
  {
   "cell_type": "markdown",
   "id": "8755a9a5",
   "metadata": {},
   "source": [
    "2. 최초 커밋"
   ]
  },
  {
   "cell_type": "code",
   "execution_count": 3,
   "id": "1ed70ce4",
   "metadata": {
    "vscode": {
     "languageId": "shellscript"
    }
   },
   "outputs": [
    {
     "name": "stdout",
     "output_type": "stream",
     "text": [
      "[main (root-commit) 8e70f9e] c1\n",
      " 1 file changed, 1 insertion(+)\n",
      " create mode 100644 file.txt\n"
     ]
    }
   ],
   "source": [
    "echo \"line 1\" >> file.txt\n",
    "git add .\n",
    "git commit -m c1"
   ]
  },
  {
   "cell_type": "markdown",
   "id": "38d37b73",
   "metadata": {},
   "source": [
    "3. 브랜치 정보 확인"
   ]
  },
  {
   "cell_type": "code",
   "execution_count": 4,
   "id": "9b9b06b2",
   "metadata": {
    "vscode": {
     "languageId": "shellscript"
    }
   },
   "outputs": [
    {
     "name": "stdout",
     "output_type": "stream",
     "text": [
      "/Users/joelkim/Work/personal/book_git/lab/test_branch_01\n",
      "total 8\n",
      "drwxr-xr-x@ 3 joelkim  staff   96 Aug 14 17:55 .\n",
      "drwxr-xr-x@ 4 joelkim  staff  128 Aug 14 17:55 ..\n",
      "-rw-r--r--@ 1 joelkim  staff   41 Aug 14 17:55 main\n"
     ]
    }
   ],
   "source": [
    "pwd\n",
    "ls -al .git/refs/heads"
   ]
  },
  {
   "cell_type": "code",
   "execution_count": 5,
   "id": "f66b8ee1",
   "metadata": {
    "vscode": {
     "languageId": "shellscript"
    }
   },
   "outputs": [
    {
     "name": "stdout",
     "output_type": "stream",
     "text": [
      "8e70f9ee0f51d00a870ff44a64528c9ee4e1a60d\n"
     ]
    }
   ],
   "source": [
    "cat .git/refs/heads/main"
   ]
  },
  {
   "cell_type": "markdown",
   "id": "898e3241",
   "metadata": {},
   "source": [
    "## 브랜치 명령"
   ]
  },
  {
   "cell_type": "markdown",
   "id": "9ab045a7",
   "metadata": {},
   "source": [
    "| 목적 | 명령 | 설명 |\n",
    "|---|-----|---|\n",
    "| 브랜치 목록 조회 | `git branch` | 현재 브랜치 앞에 `*` 표시 |\n",
    "| 신규 브랜치 생성 | `git branch <생성할 브랜치 이름>` | - |\n",
    "| 브랜치 전환 | `git switch <전환할 브랜치 이름>` | 버전 2.23 이후 |\n",
    "| 브랜치 전환 | `git checkout <전환할 브랜치 이름>` | 버전 2.23 전 |\n",
    "| 신규 브랜치 생성하며 전환 | `git switch -c <생성하고 전환할 브랜치 이름>` |  버전 2.23 이후 |\n",
    "| 신규 브랜치 생성하며 전환 | `git checkout -b <생성하고 전환할 브랜치 이름>` |  버전 2.23 전 |\n",
    "| 기존 브랜치 이름 변경 | `git branch -m <기존 브랜치 이름> <변경 후 브랜치 이름>` | 변경 후 브랜치 이름과 같은 브랜치가 존재하면 실패 |\n",
    "| 기존 브랜치 이름 강제 변경 | `git branch -M <기존 브랜치 이름> <변경 후 브랜치 이름>` | 변경 후 브랜치 이름과 같은 브랜치가 존재해도 덮어씀 |\n",
    "| 브랜치 삭제 | `git branch -d <기존 브랜치 이름>` | 현재 브랜치가 아니고 삭제되지 않는 브랜치에 병햡되어 있어야 삭제 가능 |\n",
    "| 브랜치 강제 삭제 | `git branch -D <기존 브랜치 이름>` | 무조건 삭제 |\n"
   ]
  },
  {
   "cell_type": "markdown",
   "id": "99bf9d1b",
   "metadata": {},
   "source": [
    "## 헤드 정보"
   ]
  },
  {
   "cell_type": "markdown",
   "id": "cd2d4dfd",
   "metadata": {},
   "source": [
    "- 헤드(HEAD) 정보는 사용자가 현재 어떤 브랜치에 있는지를 알려주는 정보다.\n",
    "- `.git/HEAD` 텍스트 파일로 저장되어 관리된다.\n"
   ]
  },
  {
   "cell_type": "markdown",
   "id": "47a07afd",
   "metadata": {},
   "source": [
    "- 만약 현재 브랜치가 main 브랜치이면 `.git/HEAD` 파일의 내용은 다음과 같다. \n",
    "\n",
    "   ```txt\n",
    "   ref: refs/heads/main\n",
    "   ```"
   ]
  },
  {
   "cell_type": "markdown",
   "id": "3549208b",
   "metadata": {},
   "source": [
    "#### 실습"
   ]
  },
  {
   "cell_type": "markdown",
   "id": "7bdfe3fb",
   "metadata": {},
   "source": [
    "- 현재 브랜치 목록 출력"
   ]
  },
  {
   "cell_type": "code",
   "execution_count": 6,
   "id": "7dc91551",
   "metadata": {
    "vscode": {
     "languageId": "shellscript"
    }
   },
   "outputs": [
    {
     "name": "stdout",
     "output_type": "stream",
     "text": [
      "* main\n"
     ]
    }
   ],
   "source": [
    "git branch"
   ]
  },
  {
   "cell_type": "markdown",
   "id": "a6fafaac",
   "metadata": {},
   "source": [
    "- 현재 브랜치 정보를 담고 있는 `.git/HEAD` 파일의 내용 확인\n",
    "  - main 브랜치 정보를 담고 있는 브랜치 정보 파일을 가리킨다"
   ]
  },
  {
   "cell_type": "code",
   "execution_count": 7,
   "id": "fd8b19b8",
   "metadata": {
    "vscode": {
     "languageId": "shellscript"
    }
   },
   "outputs": [
    {
     "name": "stdout",
     "output_type": "stream",
     "text": [
      "ref: refs/heads/main\n"
     ]
    }
   ],
   "source": [
    "cat .git/HEAD"
   ]
  },
  {
   "cell_type": "markdown",
   "id": "32bd9897",
   "metadata": {},
   "source": [
    "- 브랜치 정보 디렉토리내에는 main 브랜치 정보를 담고 있는 브랜치 정보 파일이 존재한다."
   ]
  },
  {
   "cell_type": "code",
   "execution_count": 8,
   "id": "f4b11671",
   "metadata": {
    "vscode": {
     "languageId": "shellscript"
    }
   },
   "outputs": [
    {
     "name": "stdout",
     "output_type": "stream",
     "text": [
      "total 8\n",
      "drwxr-xr-x@ 3 joelkim  staff   96 Aug 14 17:55 .\n",
      "drwxr-xr-x@ 4 joelkim  staff  128 Aug 14 17:55 ..\n",
      "-rw-r--r--@ 1 joelkim  staff   41 Aug 14 17:55 main\n"
     ]
    }
   ],
   "source": [
    "ls -al .git/refs/heads"
   ]
  },
  {
   "cell_type": "markdown",
   "id": "7018ce72",
   "metadata": {},
   "source": [
    "- main 브랜치 정보를 담고 있는 브랜치 파일의 내용 확인\n",
    "  - main 브랜치의 마지막(최신) 커밋을 가리킨다"
   ]
  },
  {
   "cell_type": "code",
   "execution_count": 9,
   "id": "657a3cbb",
   "metadata": {
    "vscode": {
     "languageId": "shellscript"
    }
   },
   "outputs": [
    {
     "name": "stdout",
     "output_type": "stream",
     "text": [
      "8e70f9ee0f51d00a870ff44a64528c9ee4e1a60d\n"
     ]
    }
   ],
   "source": [
    "cat .git/refs/heads/main"
   ]
  },
  {
   "cell_type": "markdown",
   "id": "2a48cdd1",
   "metadata": {},
   "source": [
    "- `b1` 브랜치 생성"
   ]
  },
  {
   "cell_type": "code",
   "execution_count": 10,
   "id": "c11152d5",
   "metadata": {
    "vscode": {
     "languageId": "shellscript"
    }
   },
   "outputs": [],
   "source": [
    "git branch b1"
   ]
  },
  {
   "cell_type": "markdown",
   "id": "69e3167e",
   "metadata": {},
   "source": [
    "- 현재 브랜치 목록 출력"
   ]
  },
  {
   "cell_type": "code",
   "execution_count": 11,
   "id": "9d72688a",
   "metadata": {
    "vscode": {
     "languageId": "shellscript"
    }
   },
   "outputs": [
    {
     "name": "stdout",
     "output_type": "stream",
     "text": [
      "  b1\n",
      "* main\n"
     ]
    }
   ],
   "source": [
    "git branch"
   ]
  },
  {
   "cell_type": "markdown",
   "id": "432e4640",
   "metadata": {},
   "source": [
    "- 브랜치 정보 디렉토리를 다시 확인하면 b1 이라는 브랜치 정보 파일이 만들어져 있다"
   ]
  },
  {
   "cell_type": "code",
   "execution_count": 12,
   "id": "17cf3d40",
   "metadata": {
    "vscode": {
     "languageId": "shellscript"
    }
   },
   "outputs": [
    {
     "name": "stdout",
     "output_type": "stream",
     "text": [
      "total 16\n",
      "drwxr-xr-x@ 4 joelkim  staff  128 Aug 14 17:55 .\n",
      "drwxr-xr-x@ 4 joelkim  staff  128 Aug 14 17:55 ..\n",
      "-rw-r--r--@ 1 joelkim  staff   41 Aug 14 17:55 b1\n",
      "-rw-r--r--@ 1 joelkim  staff   41 Aug 14 17:55 main\n"
     ]
    }
   ],
   "source": [
    "ls -al .git/refs/heads"
   ]
  },
  {
   "cell_type": "markdown",
   "id": "4edee282",
   "metadata": {},
   "source": [
    "- `b1` 브랜치로 전환 "
   ]
  },
  {
   "cell_type": "code",
   "execution_count": 13,
   "id": "c0034c99",
   "metadata": {
    "vscode": {
     "languageId": "shellscript"
    }
   },
   "outputs": [
    {
     "name": "stdout",
     "output_type": "stream",
     "text": [
      "Switched to branch 'b1'\n"
     ]
    }
   ],
   "source": [
    "git switch b1"
   ]
  },
  {
   "cell_type": "markdown",
   "id": "dd928fdd",
   "metadata": {},
   "source": [
    "- 현재 브랜치 목록 출력"
   ]
  },
  {
   "cell_type": "code",
   "execution_count": 14,
   "id": "3d211af9",
   "metadata": {
    "vscode": {
     "languageId": "shellscript"
    }
   },
   "outputs": [
    {
     "name": "stdout",
     "output_type": "stream",
     "text": [
      "* b1\n",
      "  main\n"
     ]
    }
   ],
   "source": [
    "git branch"
   ]
  },
  {
   "cell_type": "markdown",
   "id": "2e8c1fb1",
   "metadata": {},
   "source": [
    "- 현재 브랜치 정보를 담고 있는 `.git/HEAD` 파일의 내용 확인\n",
    "  - 이제는 main 브랜치가 아닌 b1 브랜치를 가리키고 있다"
   ]
  },
  {
   "cell_type": "code",
   "execution_count": 15,
   "id": "55a389fa",
   "metadata": {
    "vscode": {
     "languageId": "shellscript"
    }
   },
   "outputs": [
    {
     "name": "stdout",
     "output_type": "stream",
     "text": [
      "ref: refs/heads/b1\n"
     ]
    }
   ],
   "source": [
    "cat .git/HEAD"
   ]
  },
  {
   "cell_type": "markdown",
   "id": "6a3bf30d",
   "metadata": {},
   "source": [
    "- b1 브랜치 정보를 담고 있는 브랜치 파일의 내용 확인\n",
    "  - 브랜치는 다르지만 main 브랜치가 가리키는 커밋과 같은 커밋을 가리키고 있음"
   ]
  },
  {
   "cell_type": "code",
   "execution_count": 16,
   "id": "4b1fc2c6",
   "metadata": {
    "vscode": {
     "languageId": "shellscript"
    }
   },
   "outputs": [
    {
     "name": "stdout",
     "output_type": "stream",
     "text": [
      "8e70f9ee0f51d00a870ff44a64528c9ee4e1a60d\n"
     ]
    }
   ],
   "source": [
    "cat .git/refs/heads/b1"
   ]
  },
  {
   "cell_type": "markdown",
   "id": "b1caf1ea",
   "metadata": {},
   "source": [
    "- b2 브랜치를 생성하면서 전환"
   ]
  },
  {
   "cell_type": "code",
   "execution_count": 17,
   "id": "a31cf4c0",
   "metadata": {
    "vscode": {
     "languageId": "shellscript"
    }
   },
   "outputs": [
    {
     "name": "stdout",
     "output_type": "stream",
     "text": [
      "Switched to a new branch 'b2'\n"
     ]
    }
   ],
   "source": [
    "git switch -c b2"
   ]
  },
  {
   "cell_type": "code",
   "execution_count": 18,
   "id": "0719655e",
   "metadata": {
    "vscode": {
     "languageId": "shellscript"
    }
   },
   "outputs": [
    {
     "name": "stdout",
     "output_type": "stream",
     "text": [
      "  b1\n",
      "* b2\n",
      "  main\n"
     ]
    }
   ],
   "source": [
    "git branch"
   ]
  },
  {
   "cell_type": "markdown",
   "id": "acbf70b8",
   "metadata": {},
   "source": [
    "- 현재 브랜치 정보를 담고 있는 `.git/HEAD` 파일의 내용 확인\n",
    "  - 이제는 b1 브랜치가 아닌 b2 브랜치를 가리키고 있다"
   ]
  },
  {
   "cell_type": "code",
   "execution_count": 19,
   "id": "f0450d4c",
   "metadata": {
    "vscode": {
     "languageId": "shellscript"
    }
   },
   "outputs": [
    {
     "name": "stdout",
     "output_type": "stream",
     "text": [
      "ref: refs/heads/b2\n"
     ]
    }
   ],
   "source": [
    "cat .git/HEAD"
   ]
  },
  {
   "cell_type": "markdown",
   "id": "c97f70b7",
   "metadata": {},
   "source": [
    "- 파일 변경"
   ]
  },
  {
   "cell_type": "code",
   "execution_count": 20,
   "id": "aaa5e582",
   "metadata": {
    "vscode": {
     "languageId": "shellscript"
    }
   },
   "outputs": [
    {
     "name": "stdout",
     "output_type": "stream",
     "text": [
      "[b2 0cb5d23] c2\n",
      " 1 file changed, 1 insertion(+)\n"
     ]
    }
   ],
   "source": [
    "echo \"line 2\" >> file.txt\n",
    "git add .\n",
    "git commit -m c2"
   ]
  },
  {
   "cell_type": "markdown",
   "id": "87def7f4",
   "metadata": {},
   "source": [
    "- b3 브랜치 생성 및 전환"
   ]
  },
  {
   "cell_type": "code",
   "execution_count": 21,
   "id": "b39c8068",
   "metadata": {
    "vscode": {
     "languageId": "shellscript"
    }
   },
   "outputs": [
    {
     "name": "stdout",
     "output_type": "stream",
     "text": [
      "Switched to a new branch 'b3'\n"
     ]
    }
   ],
   "source": [
    "git switch -c b3"
   ]
  },
  {
   "cell_type": "markdown",
   "id": "02836d9d",
   "metadata": {},
   "source": [
    "- file2.txt 파일 추가"
   ]
  },
  {
   "cell_type": "code",
   "execution_count": 22,
   "id": "7a2a64aa",
   "metadata": {
    "vscode": {
     "languageId": "shellscript"
    }
   },
   "outputs": [
    {
     "name": "stdout",
     "output_type": "stream",
     "text": [
      "[b3 1a096bc] c3\n",
      " 1 file changed, 0 insertions(+), 0 deletions(-)\n",
      " create mode 100644 file2.txt\n"
     ]
    }
   ],
   "source": [
    "touch file2.txt\n",
    "git add .\n",
    "git commit -m c3"
   ]
  },
  {
   "cell_type": "markdown",
   "id": "bcae1195",
   "metadata": {},
   "source": [
    "```{mermaid}\n",
    "%%{\n",
    "init: {\n",
    "   \"gitGraph\": {\n",
    "      \"rotateCommitLabel\": false\n",
    "   },\n",
    "   \"themeVariables\": {\n",
    "      \"commitLabelColor\": '#000000',\n",
    "      \"commitLabelBackground\": '#ffffff',\n",
    "      \"commitLabelFontSize\": '15px'\n",
    "   }\n",
    "}}%%\n",
    "gitGraph\n",
    "  commit id: \"c1\"\n",
    "  branch b1\n",
    "  branch b2\n",
    "  commit id: \"c2: file.txt 파일 변경\"\n",
    "  branch b3\n",
    "  commit id: \"c3: file2.txt 파일 추가\"\n",
    "```"
   ]
  },
  {
   "cell_type": "markdown",
   "id": "f219f567",
   "metadata": {},
   "source": [
    "| 파일 | b2 | b3 |\n",
    "|-|-|-|\n",
    "| file.txt  | 커밋 | 커밋 |\n",
    "| file2.txt | -    | 커밋 |\n",
    "| file3.txt | -    | -    |\n"
   ]
  },
  {
   "cell_type": "markdown",
   "id": "8a38ca02",
   "metadata": {},
   "source": [
    "## 브랜치 전환시의 파일 변화"
   ]
  },
  {
   "cell_type": "markdown",
   "id": "30ce1265",
   "metadata": {},
   "source": [
    "- 브랜치를 전환하면 출발지 브랜치와 목적지 브랜치에서 해당 파일이 커밋되어 있는지 여부에 따라 파일에 발생하는 현상이 달라진다.\n",
    "\n",
    "| 출발지 브랜치 | 목적지 브랜치 | 결과 |\n",
    "|-|-|-----|\n",
    "| 커밋 | 커밋 | 목적지 브랜치에 커밋된 내용으로 바뀐다. |\n",
    "| 커밋 |  -   | 파일이 사라진다 |\n",
    "| -    | 커밋 | 출발지 브랜치의 워크트리에 같은 이름의 파일이 있으면 실패, 없으면 생긴다. |\n",
    "| -    | -    | 그대로 유지된다. |"
   ]
  },
  {
   "cell_type": "markdown",
   "id": "326a6098",
   "metadata": {},
   "source": [
    "#### 실습"
   ]
  },
  {
   "cell_type": "markdown",
   "id": "1e62585c",
   "metadata": {},
   "source": [
    "- b2 -> b3 전환하면\n",
    "  - file.txt 파일은 두 브랜치에 모두 있으므로 파일 내용이 바뀐다.\n",
    "  - file2.txt 파일은 b1 브랜치에는 없지만 b2 브랜치에는 있으므로\n",
    "      - 만약 file2.txt 라는 파일이 워크트리에 없으면 생긴다.\n",
    "      - 만약 file2.txt 라는 파일이 워크트리에 있으면 에러\n",
    "  - file3.txt 파일은 두 브랜치에 모두 없으므로 그냥 유지된다."
   ]
  },
  {
   "cell_type": "markdown",
   "id": "4a1c1bdc",
   "metadata": {},
   "source": [
    "- 우선 b1 브랜치로 전환"
   ]
  },
  {
   "cell_type": "code",
   "execution_count": 23,
   "id": "4c925682",
   "metadata": {
    "vscode": {
     "languageId": "shellscript"
    }
   },
   "outputs": [
    {
     "name": "stdout",
     "output_type": "stream",
     "text": [
      "Switched to branch 'b2'\n"
     ]
    }
   ],
   "source": [
    "git switch b2"
   ]
  },
  {
   "cell_type": "markdown",
   "id": "431dffd8",
   "metadata": {},
   "source": [
    "- 비추적 상태의 파일 file3.txt 생성"
   ]
  },
  {
   "cell_type": "code",
   "execution_count": 24,
   "id": "af943563",
   "metadata": {
    "vscode": {
     "languageId": "shellscript"
    }
   },
   "outputs": [
    {
     "name": "stdout",
     "output_type": "stream",
     "text": [
      "total 8\n",
      "drwxr-xr-x@  5 joelkim  staff  160 Aug 14 17:55 .\n",
      "drwxr-xr-x@  4 joelkim  staff  128 Aug 14 17:55 ..\n",
      "drwxr-xr-x@ 12 joelkim  staff  384 Aug 14 17:55 .git\n",
      "-rw-r--r--@  1 joelkim  staff   14 Aug 14 17:55 file.txt\n",
      "-rw-r--r--@  1 joelkim  staff    0 Aug 14 17:55 file3.txt\n"
     ]
    }
   ],
   "source": [
    "touch file3.txt\n",
    "ls -al"
   ]
  },
  {
   "cell_type": "markdown",
   "id": "3eeafd89",
   "metadata": {},
   "source": [
    "- b3 브랜치로 전환"
   ]
  },
  {
   "cell_type": "code",
   "execution_count": 25,
   "id": "0d164bf2",
   "metadata": {
    "vscode": {
     "languageId": "shellscript"
    }
   },
   "outputs": [
    {
     "name": "stdout",
     "output_type": "stream",
     "text": [
      "Switched to branch 'b3'\n"
     ]
    }
   ],
   "source": [
    "git switch b3"
   ]
  },
  {
   "cell_type": "markdown",
   "id": "071efccd",
   "metadata": {},
   "source": [
    "- file2.txt가 생기고 file3.txt는 그대로 유지"
   ]
  },
  {
   "cell_type": "code",
   "execution_count": 26,
   "id": "c3ffd36b",
   "metadata": {
    "vscode": {
     "languageId": "shellscript"
    }
   },
   "outputs": [
    {
     "name": "stdout",
     "output_type": "stream",
     "text": [
      "total 8\n",
      "drwxr-xr-x@  6 joelkim  staff  192 Aug 14 17:55 .\n",
      "drwxr-xr-x@  4 joelkim  staff  128 Aug 14 17:55 ..\n",
      "drwxr-xr-x@ 12 joelkim  staff  384 Aug 14 17:55 .git\n",
      "-rw-r--r--@  1 joelkim  staff   14 Aug 14 17:55 file.txt\n",
      "-rw-r--r--@  1 joelkim  staff    0 Aug 14 17:55 file2.txt\n",
      "-rw-r--r--@  1 joelkim  staff    0 Aug 14 17:55 file3.txt\n"
     ]
    }
   ],
   "source": [
    "ls -al"
   ]
  },
  {
   "cell_type": "markdown",
   "id": "a9fdaec2",
   "metadata": {},
   "source": [
    "- 이번에는 다시 b2로 가서"
   ]
  },
  {
   "cell_type": "code",
   "execution_count": 27,
   "id": "a76e72da",
   "metadata": {
    "vscode": {
     "languageId": "shellscript"
    }
   },
   "outputs": [
    {
     "name": "stdout",
     "output_type": "stream",
     "text": [
      "Switched to branch 'b2'\n"
     ]
    }
   ],
   "source": [
    "git switch b2"
   ]
  },
  {
   "cell_type": "markdown",
   "id": "80ab532c",
   "metadata": {},
   "source": [
    "- 비추적 상태의 파일 file2.txt 생성"
   ]
  },
  {
   "cell_type": "code",
   "execution_count": 28,
   "id": "ef80427f",
   "metadata": {
    "vscode": {
     "languageId": "shellscript"
    }
   },
   "outputs": [
    {
     "name": "stdout",
     "output_type": "stream",
     "text": [
      "total 8\n",
      "drwxr-xr-x@  6 joelkim  staff  192 Aug 14 17:55 .\n",
      "drwxr-xr-x@  4 joelkim  staff  128 Aug 14 17:55 ..\n",
      "drwxr-xr-x@ 12 joelkim  staff  384 Aug 14 17:55 .git\n",
      "-rw-r--r--@  1 joelkim  staff   14 Aug 14 17:55 file.txt\n",
      "-rw-r--r--@  1 joelkim  staff    0 Aug 14 17:55 file2.txt\n",
      "-rw-r--r--@  1 joelkim  staff    0 Aug 14 17:55 file3.txt\n"
     ]
    }
   ],
   "source": [
    "touch file2.txt\n",
    "ls -al"
   ]
  },
  {
   "cell_type": "markdown",
   "id": "62de3b42",
   "metadata": {},
   "source": [
    "- b3 브랜치로 전환하려고 하면 file2.txt가 생기며 같은 이름을 가진 비추적 상태의 파일을 덮어쓰게 되므로 에러 발생하여 전환 실패"
   ]
  },
  {
   "cell_type": "code",
   "execution_count": 29,
   "id": "96b539a4",
   "metadata": {
    "vscode": {
     "languageId": "shellscript"
    }
   },
   "outputs": [
    {
     "name": "stdout",
     "output_type": "stream",
     "text": [
      "error: The following untracked working tree files would be overwritten by checkout:\n",
      "\tfile2.txt\n",
      "Please move or remove them before you switch branches.\n",
      "Aborting\n"
     ]
    }
   ],
   "source": [
    "git switch b3 || true"
   ]
  },
  {
   "cell_type": "markdown",
   "id": "a1e9256b",
   "metadata": {},
   "source": [
    "- file2.txt 파일이 없어야 전환이 가능하다."
   ]
  },
  {
   "cell_type": "code",
   "execution_count": 30,
   "id": "93478cf9",
   "metadata": {
    "vscode": {
     "languageId": "shellscript"
    }
   },
   "outputs": [
    {
     "name": "stdout",
     "output_type": "stream",
     "text": [
      "Switched to branch 'b3'\n"
     ]
    }
   ],
   "source": [
    "rm -f file2.txt\n",
    "git switch b3"
   ]
  },
  {
   "cell_type": "markdown",
   "id": "f011db11",
   "metadata": {},
   "source": [
    "- 반대로 b3 -> b2 전환하면\n",
    "  - file.txt 파일은 두 브랜치에 모두 있으므로 내용이 바뀜\n",
    "  - file2.txt 파일은 b3 브랜치에는 있지만 b3 브랜치에는 없으므로 생긴다.\n",
    "  - file3.txt 파일은 두 브랜치에 모두 없으므로 그냥 유지된다."
   ]
  },
  {
   "cell_type": "code",
   "execution_count": 31,
   "id": "c619918c",
   "metadata": {
    "vscode": {
     "languageId": "shellscript"
    }
   },
   "outputs": [
    {
     "name": "stdout",
     "output_type": "stream",
     "text": [
      "total 8\n",
      "drwxr-xr-x@  6 joelkim  staff  192 Aug 14 17:55 .\n",
      "drwxr-xr-x@  4 joelkim  staff  128 Aug 14 17:55 ..\n",
      "drwxr-xr-x@ 12 joelkim  staff  384 Aug 14 17:55 .git\n",
      "-rw-r--r--@  1 joelkim  staff   14 Aug 14 17:55 file.txt\n",
      "-rw-r--r--@  1 joelkim  staff    0 Aug 14 17:55 file2.txt\n",
      "-rw-r--r--@  1 joelkim  staff    0 Aug 14 17:55 file3.txt\n"
     ]
    }
   ],
   "source": [
    "ls -al"
   ]
  },
  {
   "cell_type": "code",
   "execution_count": 32,
   "id": "a3423380",
   "metadata": {
    "vscode": {
     "languageId": "shellscript"
    }
   },
   "outputs": [
    {
     "name": "stdout",
     "output_type": "stream",
     "text": [
      "Switched to branch 'b2'\n"
     ]
    }
   ],
   "source": [
    "git switch b2"
   ]
  },
  {
   "cell_type": "code",
   "execution_count": 33,
   "id": "7fbdf9c8",
   "metadata": {
    "vscode": {
     "languageId": "shellscript"
    }
   },
   "outputs": [
    {
     "name": "stdout",
     "output_type": "stream",
     "text": [
      "total 8\n",
      "drwxr-xr-x@  5 joelkim  staff  160 Aug 14 17:55 .\n",
      "drwxr-xr-x@  4 joelkim  staff  128 Aug 14 17:55 ..\n",
      "drwxr-xr-x@ 12 joelkim  staff  384 Aug 14 17:55 .git\n",
      "-rw-r--r--@  1 joelkim  staff   14 Aug 14 17:55 file.txt\n",
      "-rw-r--r--@  1 joelkim  staff    0 Aug 14 17:55 file3.txt\n"
     ]
    }
   ],
   "source": [
    "ls -al"
   ]
  },
  {
   "cell_type": "markdown",
   "id": "16aa0917",
   "metadata": {},
   "source": [
    "## 브랜치 전환이 불가능한 상황"
   ]
  },
  {
   "cell_type": "markdown",
   "id": "08167fec",
   "metadata": {},
   "source": [
    "- 출발지 브랜치의 워크트리에 있는 파일의 상태가 다음과 같으면 전환할 수 없다.\n",
    "  - 변경(modified), 삭제(deleted) 상태의 파일이 존재\n",
    "  - 목적지 브랜치에 커밋되어 있는 파일과 같은 이름의 신규(new) 파일이 존재\n",
    "- 즉 변경/삭제 상태의 파일이 존재하지 않아야 하고, 신규파일의 경우 목적지 브랜치에 해당 이름의 파일이 없어야 한다.\n",
    "- 이는 브랜치를 전환하면서 현재 워크트리의 변경사항이 목적지 브랜치 내용으로 덮어씌워지는 것을 방지하기 위함이다.\n",
    "- 변경 혹은 신규 파일의 내용이 목적지 브랜치에 커밋된 파일과 같은 경우에도 상관없이 불가능하다. \n",
    "- 다만 브랜치 이름만 다르고 실제로 가리키는 커밋은 같은 경우, 즉 브랜치를 새로 만든 직후로 아직 새로운 커밋을 하기 전에는 무조건 전환이 가능하다"
   ]
  },
  {
   "cell_type": "markdown",
   "id": "93c02bad",
   "metadata": {},
   "source": [
    "#### 실습"
   ]
  },
  {
   "cell_type": "markdown",
   "id": "1685646d",
   "metadata": {},
   "source": [
    "##### 브랜치 이름만 다르고 가리키는 커밋은 같은 경우"
   ]
  },
  {
   "cell_type": "markdown",
   "id": "76837a5c",
   "metadata": {},
   "source": [
    "- main 브랜치와 b1 브랜치는 브랜치 이름만 다를 뿐 실제로 가리키는 커밋이 같다.\n",
    "- 이 경우는 특수한 경우로 브랜치 전환에 아무런 제약이 없다. "
   ]
  },
  {
   "cell_type": "markdown",
   "id": "08e69a1c",
   "metadata": {},
   "source": [
    "- main 브랜치로 전환하여"
   ]
  },
  {
   "cell_type": "code",
   "execution_count": 34,
   "id": "5004c1b8",
   "metadata": {
    "vscode": {
     "languageId": "shellscript"
    }
   },
   "outputs": [
    {
     "name": "stdout",
     "output_type": "stream",
     "text": [
      "Switched to branch 'main'\n"
     ]
    }
   ],
   "source": [
    "git switch main"
   ]
  },
  {
   "cell_type": "markdown",
   "id": "7823f8db",
   "metadata": {},
   "source": [
    "- file.txt 파일을 변경한다."
   ]
  },
  {
   "cell_type": "code",
   "execution_count": 35,
   "id": "7831fff0",
   "metadata": {
    "vscode": {
     "languageId": "shellscript"
    }
   },
   "outputs": [
    {
     "name": "stdout",
     "output_type": "stream",
     "text": [
      "On branch main\n",
      "Changes not staged for commit:\n",
      "  (use \"git add <file>...\" to update what will be committed)\n",
      "  (use \"git restore <file>...\" to discard changes in working directory)\n",
      "\tmodified:   file.txt\n",
      "\n",
      "Untracked files:\n",
      "  (use \"git add <file>...\" to include in what will be committed)\n",
      "\tfile3.txt\n",
      "\n",
      "no changes added to commit (use \"git add\" and/or \"git commit -a\")\n"
     ]
    }
   ],
   "source": [
    "echo \"line 2\" >> file.txt\n",
    "git status"
   ]
  },
  {
   "cell_type": "markdown",
   "id": "444e31b2",
   "metadata": {},
   "source": [
    "- 그래도 b1 브랜치로 전환하는데 아무런 이상이 없다"
   ]
  },
  {
   "cell_type": "code",
   "execution_count": 36,
   "id": "7c83dab3",
   "metadata": {
    "vscode": {
     "languageId": "shellscript"
    }
   },
   "outputs": [
    {
     "name": "stdout",
     "output_type": "stream",
     "text": [
      "M\tfile.txt\n",
      "Switched to branch 'b1'\n"
     ]
    }
   ],
   "source": [
    "git switch b1"
   ]
  },
  {
   "cell_type": "markdown",
   "id": "c5a02ce8",
   "metadata": {},
   "source": [
    "- b1 브랜치에서 수정한 경우에도 마찬가지로 main 브랜치로 문제없이 전환된다."
   ]
  },
  {
   "cell_type": "code",
   "execution_count": 37,
   "id": "7f90026f",
   "metadata": {
    "vscode": {
     "languageId": "shellscript"
    }
   },
   "outputs": [
    {
     "name": "stdout",
     "output_type": "stream",
     "text": [
      "M\tfile.txt\n",
      "Switched to branch 'main'\n"
     ]
    }
   ],
   "source": [
    "echo \"line 3\" >> file.txt\n",
    "git switch main"
   ]
  },
  {
   "cell_type": "markdown",
   "id": "b9fe5e42",
   "metadata": {},
   "source": [
    "##### 두 브랜치가 실제로 다른 커밋을 가리키는 경우"
   ]
  },
  {
   "cell_type": "markdown",
   "id": "2d674aab",
   "metadata": {},
   "source": [
    "- 이제는 실질적으로 다른 브랜치인 b2 브랜치과 b3 브랜치 간에서 전환해 본다."
   ]
  },
  {
   "cell_type": "markdown",
   "id": "26d66d47",
   "metadata": {},
   "source": [
    "- 워크트리 상태를 원복하고"
   ]
  },
  {
   "cell_type": "code",
   "execution_count": 38,
   "id": "f2ef7511",
   "metadata": {
    "vscode": {
     "languageId": "shellscript"
    }
   },
   "outputs": [],
   "source": [
    "git restore ."
   ]
  },
  {
   "cell_type": "markdown",
   "id": "e92eb47a",
   "metadata": {},
   "source": [
    "- b2 브랜치로 전환한다. "
   ]
  },
  {
   "cell_type": "code",
   "execution_count": 39,
   "id": "5c2c3c91",
   "metadata": {
    "vscode": {
     "languageId": "shellscript"
    }
   },
   "outputs": [
    {
     "name": "stdout",
     "output_type": "stream",
     "text": [
      "Switched to branch 'b2'\n"
     ]
    }
   ],
   "source": [
    "git switch b2"
   ]
  },
  {
   "cell_type": "markdown",
   "id": "2febd732",
   "metadata": {},
   "source": [
    "- 이 때는 파일 file.txt가 변경(modified) 상태이므로 b2 브랜치로 전환이 불가능하다."
   ]
  },
  {
   "cell_type": "code",
   "execution_count": 40,
   "id": "159fd90a",
   "metadata": {
    "vscode": {
     "languageId": "shellscript"
    }
   },
   "outputs": [
    {
     "name": "stdout",
     "output_type": "stream",
     "text": [
      "On branch b2\n",
      "Untracked files:\n",
      "  (use \"git add <file>...\" to include in what will be committed)\n",
      "\tfile3.txt\n",
      "\n",
      "nothing added to commit but untracked files present (use \"git add\" to track)\n"
     ]
    }
   ],
   "source": [
    "git status"
   ]
  },
  {
   "cell_type": "code",
   "execution_count": 41,
   "id": "f035231d",
   "metadata": {
    "vscode": {
     "languageId": "shellscript"
    }
   },
   "outputs": [
    {
     "name": "stdout",
     "output_type": "stream",
     "text": [
      "Switched to branch 'b3'\n"
     ]
    }
   ],
   "source": [
    "git switch b3 || true"
   ]
  },
  {
   "cell_type": "markdown",
   "id": "26a199f8",
   "metadata": {},
   "source": [
    "- file.txt 파일의 현재 내용이 목적지 b2 브랜치의 file.txt 파일 내용과 같아도 마찬가지다."
   ]
  },
  {
   "cell_type": "code",
   "execution_count": 42,
   "id": "2047e5ee",
   "metadata": {
    "vscode": {
     "languageId": "shellscript"
    }
   },
   "outputs": [
    {
     "name": "stdout",
     "output_type": "stream",
     "text": [
      "line 1\n",
      "line 2\n"
     ]
    }
   ],
   "source": [
    "git restore --source=b3 -- file.txt\n",
    "cat file.txt"
   ]
  },
  {
   "cell_type": "code",
   "execution_count": 43,
   "id": "1fa60753",
   "metadata": {
    "vscode": {
     "languageId": "shellscript"
    }
   },
   "outputs": [
    {
     "name": "stdout",
     "output_type": "stream",
     "text": [
      "Already on 'b3'\n"
     ]
    }
   ],
   "source": [
    "git switch b3  || true"
   ]
  },
  {
   "cell_type": "markdown",
   "id": "fbced092",
   "metadata": {},
   "source": [
    "- 변경 파일이 아닌 신규 파일의 경우 목적지 브랜치에 해당 이름의 파일이 커밋되어 있는지 아닌지 여부에 따라 달라진다."
   ]
  },
  {
   "cell_type": "markdown",
   "id": "80ea84d9",
   "metadata": {},
   "source": [
    "- 일단 file.txt의 변경사항을 원복한다."
   ]
  },
  {
   "cell_type": "code",
   "execution_count": 44,
   "id": "4f3520ea",
   "metadata": {
    "vscode": {
     "languageId": "shellscript"
    }
   },
   "outputs": [],
   "source": [
    "git restore ."
   ]
  },
  {
   "cell_type": "markdown",
   "id": "4a9e9aad",
   "metadata": {},
   "source": [
    "- 현재 file3.txt라는 신규 파일이 있지만 목적지 브랜치 b3에는 없다."
   ]
  },
  {
   "cell_type": "code",
   "execution_count": 45,
   "id": "feb6cad3",
   "metadata": {
    "vscode": {
     "languageId": "shellscript"
    }
   },
   "outputs": [
    {
     "name": "stdout",
     "output_type": "stream",
     "text": [
      "On branch b3\n",
      "Untracked files:\n",
      "  (use \"git add <file>...\" to include in what will be committed)\n",
      "\tfile3.txt\n",
      "\n",
      "nothing added to commit but untracked files present (use \"git add\" to track)\n"
     ]
    }
   ],
   "source": [
    "git status"
   ]
  },
  {
   "cell_type": "markdown",
   "id": "d011f497",
   "metadata": {},
   "source": [
    "- 따라서 b3 브랜치로 전환할 수 있다."
   ]
  },
  {
   "cell_type": "code",
   "execution_count": 46,
   "id": "f7361b45",
   "metadata": {
    "vscode": {
     "languageId": "shellscript"
    }
   },
   "outputs": [
    {
     "name": "stdout",
     "output_type": "stream",
     "text": [
      "Already on 'b3'\n"
     ]
    }
   ],
   "source": [
    "git switch b3"
   ]
  },
  {
   "cell_type": "markdown",
   "id": "6387ad7a",
   "metadata": {},
   "source": [
    "- 다시 b2 브랜치로 돌아가서 "
   ]
  },
  {
   "cell_type": "code",
   "execution_count": 47,
   "id": "53c72239",
   "metadata": {
    "vscode": {
     "languageId": "shellscript"
    }
   },
   "outputs": [
    {
     "name": "stdout",
     "output_type": "stream",
     "text": [
      "Switched to branch 'b2'\n"
     ]
    }
   ],
   "source": [
    "git switch b2"
   ]
  },
  {
   "cell_type": "markdown",
   "id": "f744c268",
   "metadata": {},
   "source": [
    "- 이번에는 b3 브랜치에만 존재하는 file2.txt라는 이름의 파일을 생성한다."
   ]
  },
  {
   "cell_type": "code",
   "execution_count": 48,
   "id": "4b5d2b49",
   "metadata": {
    "vscode": {
     "languageId": "shellscript"
    }
   },
   "outputs": [
    {
     "name": "stdout",
     "output_type": "stream",
     "text": [
      "On branch b2\n",
      "Untracked files:\n",
      "  (use \"git add <file>...\" to include in what will be committed)\n",
      "\tfile2.txt\n",
      "\tfile3.txt\n",
      "\n",
      "nothing added to commit but untracked files present (use \"git add\" to track)\n"
     ]
    }
   ],
   "source": [
    "touch file2.txt\n",
    "git status"
   ]
  },
  {
   "cell_type": "markdown",
   "id": "c9d0daa9",
   "metadata": {},
   "source": [
    "- 이 때는 file2.txt 파일의 현재 내용이 b3 브랜치의 file2.txt 내용으로 바뀌는 것을 막기 위해 b3 브랜치로 전환할 수 없다"
   ]
  },
  {
   "cell_type": "code",
   "execution_count": 50,
   "id": "6576c67c",
   "metadata": {
    "vscode": {
     "languageId": "shellscript"
    }
   },
   "outputs": [
    {
     "name": "stdout",
     "output_type": "stream",
     "text": [
      "error: The following untracked working tree files would be overwritten by checkout:\n",
      "\tfile2.txt\n",
      "Please move or remove them before you switch branches.\n",
      "Aborting\n"
     ]
    }
   ],
   "source": [
    "git switch b3 || true"
   ]
  }
 ],
 "metadata": {
  "kernelspec": {
   "display_name": "Bash",
   "language": "bash",
   "name": "bash"
  },
  "language_info": {
   "codemirror_mode": "shell",
   "file_extension": ".sh",
   "mimetype": "text/x-sh",
   "name": "bash"
  }
 },
 "nbformat": 4,
 "nbformat_minor": 5
}
