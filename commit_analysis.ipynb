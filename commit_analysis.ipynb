{
 "cells": [
  {
   "cell_type": "code",
   "execution_count": 1,
   "id": "24744f54",
   "metadata": {
    "vscode": {
     "languageId": "shellscript"
    }
   },
   "outputs": [],
   "source": [
    "# | echo: false\n",
    "# | output: false\n",
    "export LANG=en_US.UTF-8\n",
    "export HOME=/Users/joelkim/Work/personal/book_git\n",
    "cd $HOME"
   ]
  },
  {
   "cell_type": "markdown",
   "id": "c5cde10e",
   "metadata": {},
   "source": [
    "# 커밋 분석"
   ]
  },
  {
   "cell_type": "raw",
   "id": "41aa7f4e",
   "metadata": {
    "vscode": {
     "languageId": "raw"
    }
   },
   "source": [
    "::: {.hidden}\n",
    "\n",
    "## 참고 문헌\n",
    "\n",
    "- Building Git, Ch. 13 Branching Out\n",
    "  - chrome-extension://oemmndcbldboiebfnladdacbdfmadadm/file:///Users/joelkim/Work/study/study_cs/book/DevOps/Coglan/2021%20-%20Coglan%20-%20Buliding%20Git.pdf#%5B%7B%22num%22%3A1460%2C%22gen%22%3A0%7D%2C%7B%22name%22%3A%22XYZ%22%7D%2C72%2C769.889%2Cnull%5D\n",
    "\n",
    ":::"
   ]
  },
  {
   "cell_type": "markdown",
   "id": "bb1f7cc1",
   "metadata": {},
   "source": [
    "## 커밋 기록을 살피기 위한 명령"
   ]
  },
  {
   "cell_type": "markdown",
   "id": "be05230a",
   "metadata": {},
   "source": [
    "- 다음은 커밋 기록을 살피기 위한 명령\n",
    "- 모두 커밋참조와 파일(객체)참조를 인수로 받음 "
   ]
  },
  {
   "cell_type": "markdown",
   "id": "5b3df735",
   "metadata": {},
   "source": [
    "| 명령 | 설명 |\n",
    "|-|-|\n",
    "| `git log` | 과거부터 현재까지의 모든 커밋 기록 보기 |\n",
    "| `git ls-tree` | 특정 커밋의 스냅샷 파일 목록 보기 |\n",
    "| `git cat-file` | 특정 커밋의 객체 정보 보기 |\n",
    "| `git show` | 특정 커밋의 변경 내역 및 파일 내용 보기 |\n",
    "| `git diff` | 커밋간의 차이 보기 |\n"
   ]
  },
  {
   "cell_type": "markdown",
   "id": "f3d48a28",
   "metadata": {},
   "source": [
    "## 커밋참조"
   ]
  },
  {
   "cell_type": "markdown",
   "id": "b8d17b37",
   "metadata": {},
   "source": [
    "- 커밋을 참조하는 방법은 2가지\n",
    "  - 절대참조: 커밋의 해시값\n",
    "  - 상대참조: 현재 위치로부터 과거의 커밋을 상대적으로 지시\n",
    "    - `HEAD`: 현재 체크아웃되어 있는 커밋\n",
    "    - `~N`: 특정 커밋 위치로부터 N번 앞(과거)의 커밋\n",
    "      - 현재 커밋 바로 앞의 커밋(부모 커밋)은 `HEAD~1`\n",
    "      - 현재 커밋 2번재 앞 커밋(조부모 커밋)은 `HEAD~2`\n"
   ]
  },
  {
   "cell_type": "markdown",
   "id": "332906fa",
   "metadata": {},
   "source": [
    "## 파일참조"
   ]
  },
  {
   "cell_type": "markdown",
   "id": "c1b4ca53",
   "metadata": {},
   "source": [
    "- 파일을 참조하는 방법은 2가지\n",
    "  - 절대참조: 파일의 해시값\n",
    "  - 경로참조: 파일의 이름 또는 경로\n"
   ]
  },
  {
   "cell_type": "markdown",
   "id": "2f95b9dc",
   "metadata": {},
   "source": [
    "## 실습 1: 레포지토리 생성"
   ]
  },
  {
   "cell_type": "markdown",
   "id": "05951637",
   "metadata": {},
   "source": [
    "1. 레포지토리 생성"
   ]
  },
  {
   "cell_type": "code",
   "execution_count": 2,
   "id": "99e36ff3",
   "metadata": {
    "vscode": {
     "languageId": "shellscript"
    }
   },
   "outputs": [
    {
     "name": "stdout",
     "output_type": "stream",
     "text": [
      "Initialized empty Git repository in /Users/joelkim/Work/personal/book_git/lab/test_commit_01/.git/\n"
     ]
    }
   ],
   "source": [
    "# | output: false\n",
    "cd $HOME/lab\n",
    "rm -rf test_commit_01\n",
    "git init test_commit_01\n",
    "cd test_commit_01"
   ]
  },
  {
   "cell_type": "markdown",
   "id": "f6b9ec67",
   "metadata": {},
   "source": [
    ":::{.cell}\n",
    "::::{.cell-output .cell-output-stdout}\n",
    "Initialized empty Git repository in /test_commit_01/.git/\n",
    "::::\n",
    ":::"
   ]
  },
  {
   "cell_type": "markdown",
   "id": "b05cb6f4",
   "metadata": {},
   "source": [
    "2. 최초 커밋"
   ]
  },
  {
   "cell_type": "code",
   "execution_count": 3,
   "id": "7e9ef126",
   "metadata": {
    "vscode": {
     "languageId": "shellscript"
    }
   },
   "outputs": [
    {
     "name": "stdout",
     "output_type": "stream",
     "text": [
      "[main (root-commit) bd09e96] c1\n",
      " 1 file changed, 1 insertion(+)\n",
      " create mode 100644 file1.txt\n"
     ]
    }
   ],
   "source": [
    "echo \"file1 line 1\" >> file1.txt\n",
    "git add .\n",
    "git commit -m c1"
   ]
  },
  {
   "cell_type": "code",
   "execution_count": 4,
   "id": "df32ca0d",
   "metadata": {
    "vscode": {
     "languageId": "shellscript"
    }
   },
   "outputs": [
    {
     "name": "stdout",
     "output_type": "stream",
     "text": [
      "[main 211266b] c2\n",
      " 2 files changed, 2 insertions(+)\n",
      " create mode 100644 file2.txt\n"
     ]
    }
   ],
   "source": [
    "echo \"file1 line 2\" >> file1.txt\n",
    "echo \"file2 line 1\" >> file2.txt\n",
    "git add .\n",
    "git commit -m c2"
   ]
  },
  {
   "cell_type": "code",
   "execution_count": 5,
   "id": "bdfd3ca7",
   "metadata": {
    "vscode": {
     "languageId": "shellscript"
    }
   },
   "outputs": [
    {
     "name": "stdout",
     "output_type": "stream",
     "text": [
      "rm 'file1.txt'\n",
      "[main a19df1c] c3\n",
      " 2 files changed, 1 insertion(+), 2 deletions(-)\n",
      " delete mode 100644 file1.txt\n",
      " create mode 100644 sub/file3.txt\n"
     ]
    }
   ],
   "source": [
    "git rm file1.txt\n",
    "mkdir sub\n",
    "echo \"file3 line 1\" >> sub/file3.txt\n",
    "git add .\n",
    "git commit -m c3"
   ]
  },
  {
   "cell_type": "markdown",
   "id": "94678dbb",
   "metadata": {},
   "source": [
    "![그림: 예제 커밋 상황](figs/fig_log_01.png){width=400px}"
   ]
  },
  {
   "cell_type": "markdown",
   "id": "54488025",
   "metadata": {},
   "source": [
    "## log 명령"
   ]
  },
  {
   "cell_type": "markdown",
   "id": "02f518de",
   "metadata": {},
   "source": [
    "- 과거부터 현재까지의 모든 커밋 기록 보기"
   ]
  },
  {
   "cell_type": "markdown",
   "id": "513e3878",
   "metadata": {},
   "source": [
    "### log 명령 사용법"
   ]
  },
  {
   "cell_type": "markdown",
   "id": "110fdb9d",
   "metadata": {},
   "source": [
    "- `git log [옵션]`: 모든 로그 출력\n",
    "- `git log [옵션] <파일 또는 경로>`: 특정 파일 또는 경로에 대한 로그만 출력.\n",
    "- `git log <커밋참조1>..<커밋참조2>`: 커밋1부터 커밋2까지의 로그만 추력"
   ]
  },
  {
   "cell_type": "markdown",
   "id": "715cb33d",
   "metadata": {},
   "source": [
    "### log 명령의 옵션"
   ]
  },
  {
   "cell_type": "markdown",
   "id": "e29aebbc",
   "metadata": {},
   "source": [
    "#### 출력 형식 제어"
   ]
  },
  {
   "cell_type": "markdown",
   "id": "6c6731de",
   "metadata": {},
   "source": [
    "- 출력형식은 `--pretty` 옵션으로 제어\n",
    "  - `git log --pretty=medium`:  기본값 (해시 + 작성자 + 날짜 + 메시지)\n",
    "  - `git log --pretty=short`:   간단한 정보 (해시 + 작성자 + 메시지)\n",
    "  - `git log --pretty=oneline`: 한 줄 출력 (해시 + 메시지)\n",
    "  - `git log --oneline`: 한 줄 출력 (단축해시 + 메시지)\n",
    "  - `git log --pretty=format:` 사용자 정의 형식 출력\n"
   ]
  },
  {
   "cell_type": "markdown",
   "id": "23d29efb",
   "metadata": {},
   "source": [
    "#### 출력 내용 제어"
   ]
  },
  {
   "cell_type": "markdown",
   "id": "b052ba28",
   "metadata": {},
   "source": [
    "- `--stat`: 변경 파일 목록 및 간단한 통계"
   ]
  },
  {
   "cell_type": "markdown",
   "id": "f2d73ec9",
   "metadata": {},
   "source": [
    "#### 출력 필터링 제어"
   ]
  },
  {
   "cell_type": "markdown",
   "id": "29324a91",
   "metadata": {},
   "source": [
    "- `git log --author=\"이름\"`: 특정 작성자(committer/author)의 커밋만 출력.\n",
    "- `git log --grep=\"키워드\"`: 커밋 메시지에 키워드가 포함된 것만 검색.\n",
    "- `git log --since=\"2024-01-01\"`: 특정 날짜 이후 커밋만 출력.\n",
    "- `git log --until=\"2024-08-01\"`: 특정 날짜 이전 커밋만 출력."
   ]
  },
  {
   "cell_type": "markdown",
   "id": "587fb17a",
   "metadata": {},
   "source": [
    "## 실습 2: log 명령"
   ]
  },
  {
   "cell_type": "code",
   "execution_count": 6,
   "id": "24ad38d7",
   "metadata": {
    "vscode": {
     "languageId": "shellscript"
    }
   },
   "outputs": [
    {
     "name": "stdout",
     "output_type": "stream",
     "text": [
      "commit a19df1c691f07db739c592d0666ba8c55b363512 (HEAD -> main)\n",
      "Author: user <user@company.com>\n",
      "Date:   Thu Sep 18 22:23:36 2025 +0900\n",
      "\n",
      "    c3\n",
      "\n",
      "commit 211266b71656a9d2c504d278621547a059aa4b91\n",
      "Author: user <user@company.com>\n",
      "Date:   Thu Sep 18 22:23:36 2025 +0900\n",
      "\n",
      "    c2\n",
      "\n",
      "commit bd09e963fbfa641e031a394b0c6dff57ba08aa76\n",
      "Author: user <user@company.com>\n",
      "Date:   Thu Sep 18 22:23:35 2025 +0900\n",
      "\n",
      "    c1\n"
     ]
    }
   ],
   "source": [
    "git log"
   ]
  },
  {
   "cell_type": "code",
   "execution_count": 7,
   "id": "a52d5828",
   "metadata": {
    "vscode": {
     "languageId": "shellscript"
    }
   },
   "outputs": [
    {
     "name": "stdout",
     "output_type": "stream",
     "text": [
      "commit a19df1c691f07db739c592d0666ba8c55b363512 (HEAD -> main)\n",
      "Author: user <user@company.com>\n",
      "\n",
      "    c3\n",
      "\n",
      "commit 211266b71656a9d2c504d278621547a059aa4b91\n",
      "Author: user <user@company.com>\n",
      "\n",
      "    c2\n",
      "\n",
      "commit bd09e963fbfa641e031a394b0c6dff57ba08aa76\n",
      "Author: user <user@company.com>\n",
      "\n",
      "    c1\n"
     ]
    }
   ],
   "source": [
    "git log --pretty=short"
   ]
  },
  {
   "cell_type": "code",
   "execution_count": 8,
   "id": "3637b9e1",
   "metadata": {
    "vscode": {
     "languageId": "shellscript"
    }
   },
   "outputs": [
    {
     "name": "stdout",
     "output_type": "stream",
     "text": [
      "a19df1c691f07db739c592d0666ba8c55b363512 (HEAD -> main) c3\n",
      "211266b71656a9d2c504d278621547a059aa4b91 c2\n",
      "bd09e963fbfa641e031a394b0c6dff57ba08aa76 c1\n"
     ]
    }
   ],
   "source": [
    "git log --pretty=oneline"
   ]
  },
  {
   "cell_type": "code",
   "execution_count": 9,
   "id": "0ba5a768",
   "metadata": {
    "vscode": {
     "languageId": "shellscript"
    }
   },
   "outputs": [
    {
     "name": "stdout",
     "output_type": "stream",
     "text": [
      "a19df1c (HEAD -> main) c3\n",
      "211266b c2\n",
      "bd09e96 c1\n"
     ]
    }
   ],
   "source": [
    "git log --oneline"
   ]
  },
  {
   "cell_type": "code",
   "execution_count": 10,
   "id": "5fd5bc6a",
   "metadata": {
    "vscode": {
     "languageId": "shellscript"
    }
   },
   "outputs": [
    {
     "name": "stdout",
     "output_type": "stream",
     "text": [
      "a19df1c c3\n",
      "211266b c2\n",
      "bd09e96 c1\n"
     ]
    }
   ],
   "source": [
    "git log --pretty=format:\"%h %s\""
   ]
  },
  {
   "cell_type": "code",
   "execution_count": 11,
   "id": "01c906ba",
   "metadata": {
    "vscode": {
     "languageId": "shellscript"
    }
   },
   "outputs": [
    {
     "name": "stdout",
     "output_type": "stream",
     "text": [
      "a19df1c (HEAD -> main) c3\n",
      " file1.txt     | 2 --\n",
      " sub/file3.txt | 1 +\n",
      " 2 files changed, 1 insertion(+), 2 deletions(-)\n",
      "211266b c2\n",
      " file1.txt | 1 +\n",
      " file2.txt | 1 +\n",
      " 2 files changed, 2 insertions(+)\n",
      "bd09e96 c1\n",
      " file1.txt | 1 +\n",
      " 1 file changed, 1 insertion(+)\n"
     ]
    }
   ],
   "source": [
    "git log --oneline --stat"
   ]
  },
  {
   "cell_type": "code",
   "execution_count": 12,
   "id": "003d7800",
   "metadata": {
    "vscode": {
     "languageId": "shellscript"
    }
   },
   "outputs": [
    {
     "name": "stdout",
     "output_type": "stream",
     "text": [
      "a19df1c (HEAD -> main) c3\n",
      "0\t2\tfile1.txt\n",
      "1\t0\tsub/file3.txt\n",
      "211266b c2\n",
      "1\t0\tfile1.txt\n",
      "1\t0\tfile2.txt\n",
      "bd09e96 c1\n",
      "1\t0\tfile1.txt\n"
     ]
    }
   ],
   "source": [
    "git log --oneline --numstat"
   ]
  },
  {
   "cell_type": "code",
   "execution_count": 13,
   "id": "95f9675a",
   "metadata": {
    "vscode": {
     "languageId": "shellscript"
    }
   },
   "outputs": [
    {
     "name": "stdout",
     "output_type": "stream",
     "text": [
      "211266b c2\n"
     ]
    }
   ],
   "source": [
    "git log --oneline file2.txt"
   ]
  },
  {
   "cell_type": "code",
   "execution_count": 14,
   "id": "776e4af2",
   "metadata": {
    "vscode": {
     "languageId": "shellscript"
    }
   },
   "outputs": [
    {
     "name": "stdout",
     "output_type": "stream",
     "text": [
      "a19df1c (HEAD -> main) c3\n",
      "211266b c2\n",
      "bd09e96 c1\n"
     ]
    }
   ],
   "source": [
    "git log --all --oneline -- file1.txt"
   ]
  },
  {
   "cell_type": "markdown",
   "id": "23bd67fb",
   "metadata": {},
   "source": [
    "## ls-tree 명령"
   ]
  },
  {
   "cell_type": "markdown",
   "id": "38d785a9",
   "metadata": {},
   "source": [
    "- 특정 커밋에 포함된 객체의 목록 출력"
   ]
  },
  {
   "cell_type": "markdown",
   "id": "f4d1a7c8",
   "metadata": {},
   "source": [
    "### ls-tree 명령 사용법"
   ]
  },
  {
   "cell_type": "markdown",
   "id": "9209f9f8",
   "metadata": {},
   "source": [
    "- `git ls-tree [옵션] 커밋참조` 해당 커밋에 포함된 객체의 목록 출력\n"
   ]
  },
  {
   "cell_type": "markdown",
   "id": "7448d13c",
   "metadata": {},
   "source": [
    "### ls-tree 명령의 옵션"
   ]
  },
  {
   "cell_type": "markdown",
   "id": "f56e8fd0",
   "metadata": {},
   "source": [
    "- `-r` <유형>\n",
    "  - 트리 객체는 생략하고 파일만 하위 디렉토리의 파일까지 출력\n",
    "  - `-r` 옵션이 없으면 루트 트리 즉, 최상위 디렉토리의 내용만 출력"
   ]
  },
  {
   "cell_type": "markdown",
   "id": "99edb0ef",
   "metadata": {},
   "source": [
    "- `--name-only` <유형>\n",
    "  - 파일 이름만 출력\n",
    "  - 생략하면 모드, 객체 유형 및 해시값도 출력"
   ]
  },
  {
   "cell_type": "markdown",
   "id": "37f39891",
   "metadata": {},
   "source": [
    "## 실습 3: ls-tree 명령"
   ]
  },
  {
   "cell_type": "code",
   "execution_count": 15,
   "id": "10ebf67d",
   "metadata": {
    "vscode": {
     "languageId": "shellscript"
    }
   },
   "outputs": [
    {
     "name": "stdout",
     "output_type": "stream",
     "text": [
      "100644 blob 7a04146eee55f77a1af94221961598f3f9495edc\tfile2.txt\n",
      "040000 tree f3460eff5961a211a218462d0b22335667b2da63\tsub\n"
     ]
    }
   ],
   "source": [
    "git ls-tree HEAD"
   ]
  },
  {
   "cell_type": "code",
   "execution_count": 16,
   "id": "22ac7ba4",
   "metadata": {
    "vscode": {
     "languageId": "shellscript"
    }
   },
   "outputs": [
    {
     "name": "stdout",
     "output_type": "stream",
     "text": [
      "file2.txt\n",
      "sub\n"
     ]
    }
   ],
   "source": [
    "git ls-tree --name-only HEAD"
   ]
  },
  {
   "cell_type": "code",
   "execution_count": 17,
   "id": "30da23b2",
   "metadata": {
    "vscode": {
     "languageId": "shellscript"
    }
   },
   "outputs": [
    {
     "name": "stdout",
     "output_type": "stream",
     "text": [
      "100644 blob 7a04146eee55f77a1af94221961598f3f9495edc\tfile2.txt\n",
      "100644 blob 4abff1731a6775f4113f6397bb7d51582c1fae59\tsub/file3.txt\n"
     ]
    }
   ],
   "source": [
    "git ls-tree -r HEAD"
   ]
  },
  {
   "cell_type": "code",
   "execution_count": 18,
   "id": "7cd8548f",
   "metadata": {
    "vscode": {
     "languageId": "shellscript"
    }
   },
   "outputs": [
    {
     "name": "stdout",
     "output_type": "stream",
     "text": [
      "file2.txt\n",
      "sub/file3.txt\n"
     ]
    }
   ],
   "source": [
    "git ls-tree -r --name-only HEAD"
   ]
  },
  {
   "cell_type": "code",
   "execution_count": 19,
   "id": "7b3c3573",
   "metadata": {
    "vscode": {
     "languageId": "shellscript"
    }
   },
   "outputs": [
    {
     "name": "stdout",
     "output_type": "stream",
     "text": [
      "file1.txt\n",
      "file2.txt\n"
     ]
    }
   ],
   "source": [
    "git ls-tree -r --name-only HEAD~1"
   ]
  },
  {
   "cell_type": "code",
   "execution_count": 20,
   "id": "3fa0cc8a",
   "metadata": {
    "vscode": {
     "languageId": "shellscript"
    }
   },
   "outputs": [
    {
     "name": "stdout",
     "output_type": "stream",
     "text": [
      "file1.txt\n"
     ]
    }
   ],
   "source": [
    "git ls-tree -r --name-only HEAD~2"
   ]
  },
  {
   "cell_type": "markdown",
   "id": "c22c56a0",
   "metadata": {},
   "source": [
    "## cat-file 명령"
   ]
  },
  {
   "cell_type": "markdown",
   "id": "4ea17fe5",
   "metadata": {},
   "source": [
    "- 커밋에 포함된 객체의 개별 정보 출력"
   ]
  },
  {
   "cell_type": "markdown",
   "id": "e7c669e6",
   "metadata": {},
   "source": [
    "### cat-file 명령 사용법"
   ]
  },
  {
   "cell_type": "markdown",
   "id": "2f393a92",
   "metadata": {},
   "source": [
    "- `git cat-file <커밋참조>:<객체참조>`: 커밋에 포함된 객체의 정보를 출력"
   ]
  },
  {
   "cell_type": "markdown",
   "id": "18aa1a58",
   "metadata": {},
   "source": [
    "### cat-file 명령의 옵션"
   ]
  },
  {
   "cell_type": "markdown",
   "id": "2ac73a7b",
   "metadata": {},
   "source": [
    "- `-p`\n",
    "  - 사람이 읽을 수 있게 파싱하여 출력"
   ]
  },
  {
   "cell_type": "markdown",
   "id": "871159c5",
   "metadata": {},
   "source": [
    "## 실습 4: cat-file 명령"
   ]
  },
  {
   "cell_type": "code",
   "execution_count": 21,
   "id": "076b21bb",
   "metadata": {
    "vscode": {
     "languageId": "shellscript"
    }
   },
   "outputs": [
    {
     "name": "stdout",
     "output_type": "stream",
     "text": [
      "file2 line 1\n"
     ]
    }
   ],
   "source": [
    "git cat-file -p HEAD:file2.txt"
   ]
  },
  {
   "cell_type": "code",
   "execution_count": 22,
   "id": "4207cb94",
   "metadata": {
    "vscode": {
     "languageId": "shellscript"
    }
   },
   "outputs": [
    {
     "name": "stdout",
     "output_type": "stream",
     "text": [
      "file2 line 1\n"
     ]
    }
   ],
   "source": [
    "git cat-file -p HEAD~1:file2.txt"
   ]
  },
  {
   "cell_type": "code",
   "execution_count": 23,
   "id": "c53af761",
   "metadata": {
    "vscode": {
     "languageId": "shellscript"
    }
   },
   "outputs": [
    {
     "name": "stdout",
     "output_type": "stream",
     "text": [
      "fatal: path 'file2.txt' exists on disk, but not in 'HEAD~2'\n"
     ]
    }
   ],
   "source": [
    "git cat-file -p HEAD~2:file2.txt || true"
   ]
  },
  {
   "cell_type": "code",
   "execution_count": 24,
   "id": "7e42b8d5",
   "metadata": {
    "vscode": {
     "languageId": "shellscript"
    }
   },
   "outputs": [
    {
     "name": "stdout",
     "output_type": "stream",
     "text": [
      "fatal: path 'file1.txt' does not exist in 'HEAD'\n"
     ]
    }
   ],
   "source": [
    "git cat-file -p HEAD:file1.txt || true"
   ]
  },
  {
   "cell_type": "code",
   "execution_count": 25,
   "id": "728e6239",
   "metadata": {
    "vscode": {
     "languageId": "shellscript"
    }
   },
   "outputs": [
    {
     "name": "stdout",
     "output_type": "stream",
     "text": [
      "file1 line 1\n",
      "file1 line 2\n"
     ]
    }
   ],
   "source": [
    "git cat-file -p HEAD~1:file1.txt"
   ]
  },
  {
   "cell_type": "code",
   "execution_count": 26,
   "id": "3788817e",
   "metadata": {
    "vscode": {
     "languageId": "shellscript"
    }
   },
   "outputs": [
    {
     "name": "stdout",
     "output_type": "stream",
     "text": [
      "file1 line 1\n"
     ]
    }
   ],
   "source": [
    "git cat-file -p HEAD~2:file1.txt"
   ]
  },
  {
   "cell_type": "markdown",
   "id": "9a23a486",
   "metadata": {},
   "source": [
    "## show 명령"
   ]
  },
  {
   "cell_type": "markdown",
   "id": "8acab246",
   "metadata": {},
   "source": [
    "- 특정 커밋의 변경 내역 출력\n",
    "- 특정 커밋에 포함된 파일의 내용 출력"
   ]
  },
  {
   "cell_type": "markdown",
   "id": "1f722b77",
   "metadata": {},
   "source": [
    "### show 명령 사용법"
   ]
  },
  {
   "cell_type": "markdown",
   "id": "57c4be29",
   "metadata": {},
   "source": [
    "- `git show [옵션] 커밋참조`: 해당 커밋과 바로 전 커밋의 변경 내역 출력 \n",
    "- `git show [옵션] 커밋참조:파일참조`: 해당 커밋에 포함된 파일의 내용 출력"
   ]
  },
  {
   "cell_type": "markdown",
   "id": "c345e188",
   "metadata": {},
   "source": [
    "### show 명령의 옵션"
   ]
  },
  {
   "cell_type": "markdown",
   "id": "ff6e228f",
   "metadata": {},
   "source": [
    "- `--name-only` <유형>\n",
    "  - 파일 이름만 출력"
   ]
  },
  {
   "cell_type": "markdown",
   "id": "063c2aad",
   "metadata": {},
   "source": [
    "## 실습 5: show 명령"
   ]
  },
  {
   "cell_type": "code",
   "execution_count": 27,
   "id": "f12728bd",
   "metadata": {
    "vscode": {
     "languageId": "shellscript"
    }
   },
   "outputs": [
    {
     "name": "stdout",
     "output_type": "stream",
     "text": [
      "commit a19df1c691f07db739c592d0666ba8c55b363512 (HEAD -> main)\n",
      "Author: user <user@company.com>\n",
      "Date:   Thu Sep 18 22:23:36 2025 +0900\n",
      "\n",
      "    c3\n",
      "\n",
      "diff --git a/file1.txt b/file1.txt\n",
      "deleted file mode 100644\n",
      "index 2d3586b..0000000\n",
      "--- a/file1.txt\n",
      "+++ /dev/null\n",
      "@@ -1,2 +0,0 @@\n",
      "-file1 line 1\n",
      "-file1 line 2\n",
      "diff --git a/sub/file3.txt b/sub/file3.txt\n",
      "new file mode 100644\n",
      "index 0000000..4abff17\n",
      "--- /dev/null\n",
      "+++ b/sub/file3.txt\n",
      "@@ -0,0 +1 @@\n",
      "+file3 line 1\n"
     ]
    }
   ],
   "source": [
    "git show HEAD"
   ]
  },
  {
   "cell_type": "code",
   "execution_count": 28,
   "id": "6901ca73",
   "metadata": {
    "vscode": {
     "languageId": "shellscript"
    }
   },
   "outputs": [
    {
     "name": "stdout",
     "output_type": "stream",
     "text": [
      "commit a19df1c691f07db739c592d0666ba8c55b363512 (HEAD -> main)\n",
      "Author: user <user@company.com>\n",
      "Date:   Thu Sep 18 22:23:36 2025 +0900\n",
      "\n",
      "    c3\n",
      "\n",
      "D\tfile1.txt\n",
      "A\tsub/file3.txt\n"
     ]
    }
   ],
   "source": [
    "git show --name-status HEAD"
   ]
  },
  {
   "cell_type": "code",
   "execution_count": 29,
   "id": "a6383ff4",
   "metadata": {
    "vscode": {
     "languageId": "shellscript"
    }
   },
   "outputs": [
    {
     "name": "stdout",
     "output_type": "stream",
     "text": [
      "file2 line 1\n"
     ]
    }
   ],
   "source": [
    "git show HEAD:file2.txt"
   ]
  },
  {
   "cell_type": "code",
   "execution_count": 30,
   "id": "f8e90e84",
   "metadata": {
    "vscode": {
     "languageId": "shellscript"
    }
   },
   "outputs": [
    {
     "name": "stdout",
     "output_type": "stream",
     "text": [
      "commit 211266b71656a9d2c504d278621547a059aa4b91\n",
      "Author: user <user@company.com>\n",
      "Date:   Thu Sep 18 22:23:36 2025 +0900\n",
      "\n",
      "    c2\n",
      "\n",
      "M\tfile1.txt\n",
      "A\tfile2.txt\n"
     ]
    }
   ],
   "source": [
    "git show --name-status HEAD~1"
   ]
  },
  {
   "cell_type": "markdown",
   "id": "45f2240c",
   "metadata": {},
   "source": [
    "## `diff` 명령"
   ]
  },
  {
   "cell_type": "markdown",
   "id": "849e6d0a",
   "metadata": {},
   "source": [
    "- diff 명령은 워크트리, 스테이지, 커밋간의 차이를 비교"
   ]
  },
  {
   "cell_type": "markdown",
   "id": "c21dd699",
   "metadata": {},
   "source": [
    "### diff 명령 사용법"
   ]
  },
  {
   "cell_type": "markdown",
   "id": "d9c39cea",
   "metadata": {},
   "source": [
    "| 명령 | 옵션 | 인수1 | 인수2 | 비교대상1 | 비교대상2 |\n",
    "|-|-|-|-|-|-|\n",
    "| `git diff` | -          | -             | -             | 워크트리 | 인덱스   |\n",
    "| `git diff` | `--cached` | -             | -             | 스테이지 | 헤드커밋 |\n",
    "| `git diff` | -          | `<커밋참조>`  | -             | 워크트리 | 커밋     |\n",
    "| `git diff` | `--cached` | `<커밋참조>`  | -             | 스테이지 | 커밋     |\n",
    "| `git diff` | -          | `<커밋참조1>` | `<커밋참조2>` | 커밋1    | 커밋2    |\n"
   ]
  },
  {
   "cell_type": "markdown",
   "id": "d78c6ba3",
   "metadata": {},
   "source": [
    "- 인덱스는 추후 인덱스 파일에서 다루지만\n",
    "  - 기본적으로는 스테이징 영역을 나타낸다.\n",
    "  - 하지만 헤드커밋의 파일도 포함한다.\n",
    "  - 따라서 추적중인 파일이 워크트리에서 변경되면 아직 add를 하지 않은 상태, 즉 스테이징을 하지 않아도 diff 명령으로 비교가 가능\n",
    "   "
   ]
  },
  {
   "cell_type": "markdown",
   "id": "a95f4874",
   "metadata": {},
   "source": [
    "## 실습 6: diff 명령"
   ]
  },
  {
   "cell_type": "markdown",
   "id": "feeda549",
   "metadata": {},
   "source": [
    "- 레포지토리 생성"
   ]
  },
  {
   "cell_type": "code",
   "execution_count": 31,
   "id": "0b01bd20",
   "metadata": {
    "vscode": {
     "languageId": "shellscript"
    }
   },
   "outputs": [
    {
     "name": "stdout",
     "output_type": "stream",
     "text": [
      "Initialized empty Git repository in /Users/joelkim/Work/personal/book_git/lab/test_diff_01/.git/\n"
     ]
    }
   ],
   "source": [
    "# | output: false\n",
    "cd $HOME/lab\n",
    "rm -rf test_diff_01\n",
    "git init test_diff_01\n",
    "cd test_diff_01"
   ]
  },
  {
   "cell_type": "markdown",
   "id": "b511ae18",
   "metadata": {},
   "source": [
    ":::{.cell}\n",
    "::::{.cell-output .cell-output-stdout}\n",
    "Initialized empty Git repository in ~/lab/test_diff_01/.git/\n",
    "::::\n",
    ":::"
   ]
  },
  {
   "cell_type": "markdown",
   "id": "97dff978",
   "metadata": {},
   "source": [
    "- 신규파일 생성 후"
   ]
  },
  {
   "cell_type": "code",
   "execution_count": 32,
   "id": "21592389",
   "metadata": {
    "vscode": {
     "languageId": "shellscript"
    }
   },
   "outputs": [],
   "source": [
    "echo \"file1 line1\" >> file.txt"
   ]
  },
  {
   "cell_type": "code",
   "execution_count": 33,
   "id": "5fabfcdd",
   "metadata": {
    "vscode": {
     "languageId": "shellscript"
    }
   },
   "outputs": [
    {
     "name": "stdout",
     "output_type": "stream",
     "text": [
      "On branch main\n",
      "\n",
      "No commits yet\n",
      "\n",
      "Untracked files:\n",
      "  (use \"git add <file>...\" to include in what will be committed)\n",
      "\tfile.txt\n",
      "\n",
      "nothing added to commit but untracked files present (use \"git add\" to track)\n"
     ]
    }
   ],
   "source": [
    "git status"
   ]
  },
  {
   "cell_type": "markdown",
   "id": "65f1ecdf",
   "metadata": {},
   "source": [
    "- 비추적 상태의 신규 파일은 워크트리에 있어도 스테이지와 비교하지 않는다"
   ]
  },
  {
   "cell_type": "code",
   "execution_count": 34,
   "id": "145b56ce",
   "metadata": {
    "vscode": {
     "languageId": "shellscript"
    }
   },
   "outputs": [],
   "source": [
    "git diff"
   ]
  },
  {
   "cell_type": "markdown",
   "id": "0820ea79",
   "metadata": {},
   "source": [
    "- 아직 add 전이므로 스테이지와 커밋도 동일"
   ]
  },
  {
   "cell_type": "code",
   "execution_count": 35,
   "id": "611795da",
   "metadata": {
    "vscode": {
     "languageId": "shellscript"
    }
   },
   "outputs": [],
   "source": [
    "git diff --cached"
   ]
  },
  {
   "cell_type": "markdown",
   "id": "fc01329b",
   "metadata": {},
   "source": [
    "- add 스테이징 후"
   ]
  },
  {
   "cell_type": "code",
   "execution_count": 36,
   "id": "d7524566",
   "metadata": {
    "vscode": {
     "languageId": "shellscript"
    }
   },
   "outputs": [],
   "source": [
    "git add file.txt"
   ]
  },
  {
   "cell_type": "code",
   "execution_count": 37,
   "id": "a5c8cd20",
   "metadata": {
    "vscode": {
     "languageId": "shellscript"
    }
   },
   "outputs": [
    {
     "name": "stdout",
     "output_type": "stream",
     "text": [
      "On branch main\n",
      "\n",
      "No commits yet\n",
      "\n",
      "Changes to be committed:\n",
      "  (use \"git rm --cached <file>...\" to unstage)\n",
      "\tnew file:   file.txt\n",
      "\n"
     ]
    }
   ],
   "source": [
    "git status"
   ]
  },
  {
   "cell_type": "markdown",
   "id": "dd9e4b62",
   "metadata": {},
   "source": [
    "- add된 직후이므로 워크트리와 스테이지는 동일"
   ]
  },
  {
   "cell_type": "code",
   "execution_count": 38,
   "id": "4e69df32",
   "metadata": {
    "vscode": {
     "languageId": "shellscript"
    }
   },
   "outputs": [],
   "source": [
    "git diff"
   ]
  },
  {
   "cell_type": "markdown",
   "id": "713a0f25",
   "metadata": {},
   "source": [
    "- 스테이지에는 신규파일이 있고 커밋에는 없으므로 --cached 옵션에는 표시됨 "
   ]
  },
  {
   "cell_type": "code",
   "execution_count": 39,
   "id": "162a5a36",
   "metadata": {
    "vscode": {
     "languageId": "shellscript"
    }
   },
   "outputs": [
    {
     "name": "stdout",
     "output_type": "stream",
     "text": [
      "diff --git a/file.txt b/file.txt\n",
      "new file mode 100644\n",
      "index 0000000..0b11cfc\n",
      "--- /dev/null\n",
      "+++ b/file.txt\n",
      "@@ -0,0 +1 @@\n",
      "+file1 line1\n"
     ]
    }
   ],
   "source": [
    "git diff --cached"
   ]
  },
  {
   "cell_type": "markdown",
   "id": "7c7767eb",
   "metadata": {},
   "source": [
    "- 커밋 후"
   ]
  },
  {
   "cell_type": "code",
   "execution_count": 40,
   "id": "c0789c19",
   "metadata": {
    "vscode": {
     "languageId": "shellscript"
    }
   },
   "outputs": [
    {
     "name": "stdout",
     "output_type": "stream",
     "text": [
      "[main (root-commit) 4965752] c1\n",
      " 1 file changed, 1 insertion(+)\n",
      " create mode 100644 file.txt\n"
     ]
    }
   ],
   "source": [
    "git commit -m c1"
   ]
  },
  {
   "cell_type": "code",
   "execution_count": 41,
   "id": "cc75d861",
   "metadata": {
    "vscode": {
     "languageId": "shellscript"
    }
   },
   "outputs": [
    {
     "name": "stdout",
     "output_type": "stream",
     "text": [
      "On branch main\n",
      "nothing to commit, working tree clean\n"
     ]
    }
   ],
   "source": [
    "git status"
   ]
  },
  {
   "cell_type": "markdown",
   "id": "71138f44",
   "metadata": {},
   "source": [
    "- 커밋 직후에는 워크트리, 스테이지, 헤드커밋이 동일"
   ]
  },
  {
   "cell_type": "code",
   "execution_count": 42,
   "id": "adf7ca92",
   "metadata": {
    "vscode": {
     "languageId": "shellscript"
    }
   },
   "outputs": [],
   "source": [
    "git diff"
   ]
  },
  {
   "cell_type": "code",
   "execution_count": 43,
   "id": "d4463ba5",
   "metadata": {
    "vscode": {
     "languageId": "shellscript"
    }
   },
   "outputs": [],
   "source": [
    "git diff --cached"
   ]
  },
  {
   "cell_type": "markdown",
   "id": "980df5ba",
   "metadata": {},
   "source": [
    "- 추적 상태의 파일이 변경된 경우"
   ]
  },
  {
   "cell_type": "code",
   "execution_count": 44,
   "id": "e58404e6",
   "metadata": {
    "vscode": {
     "languageId": "shellscript"
    }
   },
   "outputs": [],
   "source": [
    "echo \"file1 line2\" >> file.txt"
   ]
  },
  {
   "cell_type": "code",
   "execution_count": 45,
   "id": "916b37ee",
   "metadata": {
    "vscode": {
     "languageId": "shellscript"
    }
   },
   "outputs": [
    {
     "name": "stdout",
     "output_type": "stream",
     "text": [
      "On branch main\n",
      "Changes not staged for commit:\n",
      "  (use \"git add <file>...\" to update what will be committed)\n",
      "  (use \"git restore <file>...\" to discard changes in working directory)\n",
      "\tmodified:   file.txt\n",
      "\n",
      "no changes added to commit (use \"git add\" and/or \"git commit -a\")\n"
     ]
    }
   ],
   "source": [
    "git status"
   ]
  },
  {
   "cell_type": "markdown",
   "id": "afb46ebe",
   "metadata": {},
   "source": [
    "- 추적 상태의 파일이 변경되면 인덱스와 달라짐"
   ]
  },
  {
   "cell_type": "code",
   "execution_count": 46,
   "id": "317ecc99",
   "metadata": {
    "vscode": {
     "languageId": "shellscript"
    }
   },
   "outputs": [
    {
     "name": "stdout",
     "output_type": "stream",
     "text": [
      "diff --git a/file.txt b/file.txt\n",
      "index 0b11cfc..d037497 100644\n",
      "--- a/file.txt\n",
      "+++ b/file.txt\n",
      "@@ -1 +1,2 @@\n",
      " file1 line1\n",
      "+file1 line2\n"
     ]
    }
   ],
   "source": [
    "git diff"
   ]
  },
  {
   "cell_type": "markdown",
   "id": "3a33cb5b",
   "metadata": {},
   "source": [
    "- 이는 헤드커밋과 직접 비교한 것과 같음"
   ]
  },
  {
   "cell_type": "code",
   "execution_count": 47,
   "id": "d6914810",
   "metadata": {
    "vscode": {
     "languageId": "shellscript"
    }
   },
   "outputs": [
    {
     "name": "stdout",
     "output_type": "stream",
     "text": [
      "diff --git a/file.txt b/file.txt\n",
      "index 0b11cfc..d037497 100644\n",
      "--- a/file.txt\n",
      "+++ b/file.txt\n",
      "@@ -1 +1,2 @@\n",
      " file1 line1\n",
      "+file1 line2\n"
     ]
    }
   ],
   "source": [
    "git diff HEAD"
   ]
  },
  {
   "cell_type": "markdown",
   "id": "ad993b43",
   "metadata": {},
   "source": [
    "- 아직 스테이지에는 변경이 반영되지 않았기 때문에 스테이지와 헤드커밋은 동일함"
   ]
  },
  {
   "cell_type": "code",
   "execution_count": 48,
   "id": "ef491a83",
   "metadata": {
    "vscode": {
     "languageId": "shellscript"
    }
   },
   "outputs": [],
   "source": [
    "git diff --cached"
   ]
  },
  {
   "cell_type": "markdown",
   "id": "6ccf2258",
   "metadata": {},
   "source": [
    "- 스테이징"
   ]
  },
  {
   "cell_type": "code",
   "execution_count": 49,
   "id": "795ee699",
   "metadata": {
    "vscode": {
     "languageId": "shellscript"
    }
   },
   "outputs": [],
   "source": [
    "git add file.txt"
   ]
  },
  {
   "cell_type": "code",
   "execution_count": 50,
   "id": "d5f77882",
   "metadata": {
    "vscode": {
     "languageId": "shellscript"
    }
   },
   "outputs": [
    {
     "name": "stdout",
     "output_type": "stream",
     "text": [
      "On branch main\n",
      "Changes to be committed:\n",
      "  (use \"git restore --staged <file>...\" to unstage)\n",
      "\tmodified:   file.txt\n",
      "\n"
     ]
    }
   ],
   "source": [
    "git status"
   ]
  },
  {
   "cell_type": "markdown",
   "id": "1d6da70b",
   "metadata": {},
   "source": [
    "- 스테이징 되면 인덱스(스테이지)가 워크트리와 같아지므로 diff에 나타나지 않음"
   ]
  },
  {
   "cell_type": "code",
   "execution_count": 51,
   "id": "5915b6d2",
   "metadata": {
    "vscode": {
     "languageId": "shellscript"
    }
   },
   "outputs": [],
   "source": [
    "git diff"
   ]
  },
  {
   "cell_type": "markdown",
   "id": "e3441257",
   "metadata": {},
   "source": [
    "- 이제는 스테이지와 헤드커밋이 달라지므로 diff --cached 명령에 나타남"
   ]
  },
  {
   "cell_type": "code",
   "execution_count": 52,
   "id": "37cc0b43",
   "metadata": {
    "vscode": {
     "languageId": "shellscript"
    }
   },
   "outputs": [
    {
     "name": "stdout",
     "output_type": "stream",
     "text": [
      "diff --git a/file.txt b/file.txt\n",
      "index 0b11cfc..d037497 100644\n",
      "--- a/file.txt\n",
      "+++ b/file.txt\n",
      "@@ -1 +1,2 @@\n",
      " file1 line1\n",
      "+file1 line2\n"
     ]
    }
   ],
   "source": [
    "git diff --cached"
   ]
  },
  {
   "cell_type": "markdown",
   "id": "cda06d5d",
   "metadata": {},
   "source": [
    "- 워크트리와 헤드커밋을 직접 비교해도 같은 결과임"
   ]
  },
  {
   "cell_type": "code",
   "execution_count": 53,
   "id": "031287d1",
   "metadata": {
    "vscode": {
     "languageId": "shellscript"
    }
   },
   "outputs": [
    {
     "name": "stdout",
     "output_type": "stream",
     "text": [
      "diff --git a/file.txt b/file.txt\n",
      "index 0b11cfc..d037497 100644\n",
      "--- a/file.txt\n",
      "+++ b/file.txt\n",
      "@@ -1 +1,2 @@\n",
      " file1 line1\n",
      "+file1 line2\n"
     ]
    }
   ],
   "source": [
    "git diff HEAD"
   ]
  },
  {
   "cell_type": "markdown",
   "id": "af77e3ef",
   "metadata": {},
   "source": [
    "- 일단 커밋하면 모든 상태가 같으므로 어떤 diff 명령도 차이를 보이지 않음"
   ]
  },
  {
   "cell_type": "code",
   "execution_count": 54,
   "id": "4d146b17",
   "metadata": {
    "vscode": {
     "languageId": "shellscript"
    }
   },
   "outputs": [
    {
     "name": "stdout",
     "output_type": "stream",
     "text": [
      "[main 963ecf0] c2\n",
      " 1 file changed, 1 insertion(+)\n"
     ]
    }
   ],
   "source": [
    "git commit -m c2"
   ]
  },
  {
   "cell_type": "code",
   "execution_count": 55,
   "id": "63833ee9",
   "metadata": {
    "vscode": {
     "languageId": "shellscript"
    }
   },
   "outputs": [],
   "source": [
    "git diff"
   ]
  },
  {
   "cell_type": "code",
   "execution_count": 56,
   "id": "cdcf2f53",
   "metadata": {
    "vscode": {
     "languageId": "shellscript"
    }
   },
   "outputs": [],
   "source": [
    "git diff --cached"
   ]
  },
  {
   "cell_type": "code",
   "execution_count": 57,
   "id": "571aef97",
   "metadata": {
    "vscode": {
     "languageId": "shellscript"
    }
   },
   "outputs": [],
   "source": [
    "git diff HEAD"
   ]
  },
  {
   "cell_type": "markdown",
   "id": "113f8a7c",
   "metadata": {},
   "source": [
    "- 추적중인 파일 삭제"
   ]
  },
  {
   "cell_type": "code",
   "execution_count": 58,
   "id": "3ebc24d0",
   "metadata": {
    "vscode": {
     "languageId": "shellscript"
    }
   },
   "outputs": [],
   "source": [
    "rm -f file.txt"
   ]
  },
  {
   "cell_type": "code",
   "execution_count": 59,
   "id": "ec1adaba",
   "metadata": {
    "vscode": {
     "languageId": "shellscript"
    }
   },
   "outputs": [
    {
     "name": "stdout",
     "output_type": "stream",
     "text": [
      "On branch main\n",
      "Changes not staged for commit:\n",
      "  (use \"git add/rm <file>...\" to update what will be committed)\n",
      "  (use \"git restore <file>...\" to discard changes in working directory)\n",
      "\tdeleted:    file.txt\n",
      "\n",
      "no changes added to commit (use \"git add\" and/or \"git commit -a\")\n"
     ]
    }
   ],
   "source": [
    "git status"
   ]
  },
  {
   "cell_type": "code",
   "execution_count": 60,
   "id": "41351f97",
   "metadata": {
    "vscode": {
     "languageId": "shellscript"
    }
   },
   "outputs": [
    {
     "name": "stdout",
     "output_type": "stream",
     "text": [
      "diff --git a/file.txt b/file.txt\n",
      "deleted file mode 100644\n",
      "index d037497..0000000\n",
      "--- a/file.txt\n",
      "+++ /dev/null\n",
      "@@ -1,2 +0,0 @@\n",
      "-file1 line1\n",
      "-file1 line2\n"
     ]
    }
   ],
   "source": [
    "git diff"
   ]
  },
  {
   "cell_type": "code",
   "execution_count": 61,
   "id": "05c287bc",
   "metadata": {
    "vscode": {
     "languageId": "shellscript"
    }
   },
   "outputs": [
    {
     "name": "stdout",
     "output_type": "stream",
     "text": [
      "diff --git a/file.txt b/file.txt\n",
      "deleted file mode 100644\n",
      "index d037497..0000000\n",
      "--- a/file.txt\n",
      "+++ /dev/null\n",
      "@@ -1,2 +0,0 @@\n",
      "-file1 line1\n",
      "-file1 line2\n"
     ]
    }
   ],
   "source": [
    "git diff HEAD"
   ]
  },
  {
   "cell_type": "code",
   "execution_count": 62,
   "id": "960fa187",
   "metadata": {
    "vscode": {
     "languageId": "shellscript"
    }
   },
   "outputs": [],
   "source": [
    "git diff --cached"
   ]
  },
  {
   "cell_type": "code",
   "execution_count": 63,
   "id": "ff9d7a4d",
   "metadata": {
    "vscode": {
     "languageId": "shellscript"
    }
   },
   "outputs": [],
   "source": [
    "git add ."
   ]
  },
  {
   "cell_type": "code",
   "execution_count": 64,
   "id": "b06fbc95",
   "metadata": {
    "vscode": {
     "languageId": "shellscript"
    }
   },
   "outputs": [],
   "source": [
    "git diff"
   ]
  },
  {
   "cell_type": "code",
   "execution_count": 65,
   "id": "ec33c5e3",
   "metadata": {
    "vscode": {
     "languageId": "shellscript"
    }
   },
   "outputs": [
    {
     "name": "stdout",
     "output_type": "stream",
     "text": [
      "diff --git a/file.txt b/file.txt\n",
      "deleted file mode 100644\n",
      "index d037497..0000000\n",
      "--- a/file.txt\n",
      "+++ /dev/null\n",
      "@@ -1,2 +0,0 @@\n",
      "-file1 line1\n",
      "-file1 line2\n"
     ]
    }
   ],
   "source": [
    "git diff --cached"
   ]
  },
  {
   "cell_type": "code",
   "execution_count": 66,
   "id": "babdc5a5",
   "metadata": {
    "vscode": {
     "languageId": "shellscript"
    }
   },
   "outputs": [
    {
     "name": "stdout",
     "output_type": "stream",
     "text": [
      "diff --git a/file.txt b/file.txt\n",
      "deleted file mode 100644\n",
      "index d037497..0000000\n",
      "--- a/file.txt\n",
      "+++ /dev/null\n",
      "@@ -1,2 +0,0 @@\n",
      "-file1 line1\n",
      "-file1 line2\n"
     ]
    }
   ],
   "source": [
    "git diff HEAD"
   ]
  },
  {
   "cell_type": "code",
   "execution_count": 67,
   "id": "ae764680",
   "metadata": {
    "vscode": {
     "languageId": "shellscript"
    }
   },
   "outputs": [
    {
     "name": "stdout",
     "output_type": "stream",
     "text": [
      "[main c8b034c] c3\n",
      " 1 file changed, 2 deletions(-)\n",
      " delete mode 100644 file.txt\n"
     ]
    }
   ],
   "source": [
    "git commit -m c3"
   ]
  },
  {
   "cell_type": "code",
   "execution_count": 68,
   "id": "55b31cf9",
   "metadata": {
    "vscode": {
     "languageId": "shellscript"
    }
   },
   "outputs": [],
   "source": [
    "git diff"
   ]
  },
  {
   "cell_type": "code",
   "execution_count": 69,
   "id": "e49fabc4",
   "metadata": {
    "vscode": {
     "languageId": "shellscript"
    }
   },
   "outputs": [],
   "source": [
    "git diff --cached"
   ]
  },
  {
   "cell_type": "code",
   "execution_count": 70,
   "id": "4406af01",
   "metadata": {
    "vscode": {
     "languageId": "shellscript"
    }
   },
   "outputs": [],
   "source": [
    "git diff HEAD"
   ]
  },
  {
   "cell_type": "code",
   "execution_count": null,
   "id": "9e39d21f",
   "metadata": {
    "vscode": {
     "languageId": "shellscript"
    }
   },
   "outputs": [],
   "source": []
  }
 ],
 "metadata": {
  "kernelspec": {
   "display_name": "Bash",
   "language": "bash",
   "name": "bash"
  },
  "language_info": {
   "codemirror_mode": "shell",
   "file_extension": ".sh",
   "mimetype": "text/x-sh",
   "name": "bash"
  }
 },
 "nbformat": 4,
 "nbformat_minor": 5
}
